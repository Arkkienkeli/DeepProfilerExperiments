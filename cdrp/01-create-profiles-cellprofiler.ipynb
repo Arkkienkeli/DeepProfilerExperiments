{
 "cells": [
  {
   "cell_type": "code",
   "execution_count": null,
   "metadata": {
    "pycharm": {
     "name": "#%%\n"
    }
   },
   "outputs": [],
   "source": [
    "import pandas as pd\n",
    "import os\n",
    "import sklearn.metrics\n",
    "import sys\n",
    "\n",
    "sys.path.append(\"../profiling/\")\n",
    "import profiling"
   ]
  },
  {
   "cell_type": "code",
   "execution_count": null,
   "metadata": {
    "pycharm": {
     "name": "#%%\n"
    }
   },
   "outputs": [],
   "source": [
    "PROJECT_ROOT = \"/dgx1nas1/cellpainting-datasets/CDRP/\"\n",
    "OUTPUT_FILE = \"well_level_data_cellprofiler_1e-2.csv\"\n",
    "REG_PARAM = 1e-2\n",
    "MATRIX_FILE = 'cos_cellprofiler_1e-2.csv'"
   ]
  },
  {
   "cell_type": "code",
   "execution_count": null,
   "metadata": {
    "pycharm": {
     "name": "#%%\n"
    }
   },
   "outputs": [],
   "source": [
    "# Load metadata\n",
    "meta = pd.read_csv(os.path.join(PROJECT_ROOT, \"inputs/metadata/index_trimmed_maxconc.csv\"))\n",
    "meta[\"broad_sample\"] = meta[\"Treatment\"].str.split(\"@\", expand=True)[0]"
   ]
  },
  {
   "cell_type": "code",
   "execution_count": null,
   "metadata": {
    "pycharm": {
     "name": "#%%\n"
    }
   },
   "outputs": [],
   "source": [
    "prof24278 = pd.read_csv(\"/dgx1nas1/cellpainting-datasets/CDRP/profiles_cp/{0}/{0}_normalized.csv\".format(24278))\n",
    "prof24280 = pd.read_csv(\"/dgx1nas1/cellpainting-datasets/CDRP/profiles_cp/{0}/{0}_normalized.csv\".format(24280))\n",
    "prof24294 = pd.read_csv(\"/dgx1nas1/cellpainting-datasets/CDRP/profiles_cp/{0}/{0}_normalized.csv\".format(24294))\n",
    "prof24296 = pd.read_csv(\"/dgx1nas1/cellpainting-datasets/CDRP/profiles_cp/{0}/{0}_normalized.csv\".format(24296))\n",
    "prof24300 = pd.read_csv(\"/dgx1nas1/cellpainting-datasets/CDRP/profiles_cp/{0}/{0}_normalized.csv\".format(24300))\n",
    "prof24302 = pd.read_csv(\"/dgx1nas1/cellpainting-datasets/CDRP/profiles_cp/{0}/{0}_normalized.csv\".format(24302))\n",
    "prof24304 = pd.read_csv(\"/dgx1nas1/cellpainting-datasets/CDRP/profiles_cp/{0}/{0}_normalized.csv\".format(24304))\n",
    "prof24306 = pd.read_csv(\"/dgx1nas1/cellpainting-datasets/CDRP/profiles_cp/{0}/{0}_normalized.csv\".format(24306))\n",
    "prof24308 = pd.read_csv(\"/dgx1nas1/cellpainting-datasets/CDRP/profiles_cp/{0}/{0}_normalized.csv\".format(24308))\n",
    "prof24310 = pd.read_csv(\"/dgx1nas1/cellpainting-datasets/CDRP/profiles_cp/{0}/{0}_normalized.csv\".format(24310))\n",
    "prof24312 = pd.read_csv(\"/dgx1nas1/cellpainting-datasets/CDRP/profiles_cp/{0}/{0}_normalized.csv\".format(24312))\n",
    "prof24319 = pd.read_csv(\"/dgx1nas1/cellpainting-datasets/CDRP/profiles_cp/{0}/{0}_normalized.csv\".format(24319))\n",
    "prof24321 = pd.read_csv(\"/dgx1nas1/cellpainting-datasets/CDRP/profiles_cp/{0}/{0}_normalized.csv\".format(24321))\n",
    "prof24357 = pd.read_csv(\"/dgx1nas1/cellpainting-datasets/CDRP/profiles_cp/{0}/{0}_normalized.csv\".format(24357))\n",
    "prof25938 = pd.read_csv(\"/dgx1nas1/cellpainting-datasets/CDRP/profiles_cp/{0}/{0}_normalized.csv\".format(25938))\n",
    "prof25943 = pd.read_csv(\"/dgx1nas1/cellpainting-datasets/CDRP/profiles_cp/{0}/{0}_normalized.csv\".format(25943))\n",
    "prof25945 = pd.read_csv(\"/dgx1nas1/cellpainting-datasets/CDRP/profiles_cp/{0}/{0}_normalized.csv\".format(25945))\n",
    "prof25955 = pd.read_csv(\"/dgx1nas1/cellpainting-datasets/CDRP/profiles_cp/{0}/{0}_normalized.csv\".format(25955))\n",
    "prof25965 = pd.read_csv(\"/dgx1nas1/cellpainting-datasets/CDRP/profiles_cp/{0}/{0}_normalized.csv\".format(25965))\n",
    "prof25967 = pd.read_csv(\"/dgx1nas1/cellpainting-datasets/CDRP/profiles_cp/{0}/{0}_normalized.csv\".format(25967))\n",
    "prof25983 = pd.read_csv(\"/dgx1nas1/cellpainting-datasets/CDRP/profiles_cp/{0}/{0}_normalized.csv\".format(25983))\n",
    "prof25985 = pd.read_csv(\"/dgx1nas1/cellpainting-datasets/CDRP/profiles_cp/{0}/{0}_normalized.csv\".format(25985))\n",
    "prof25987 = pd.read_csv(\"/dgx1nas1/cellpainting-datasets/CDRP/profiles_cp/{0}/{0}_normalized.csv\".format(25987))\n",
    "prof25989 = pd.read_csv(\"/dgx1nas1/cellpainting-datasets/CDRP/profiles_cp/{0}/{0}_normalized.csv\".format(25989))\n",
    "prof25991 = pd.read_csv(\"/dgx1nas1/cellpainting-datasets/CDRP/profiles_cp/{0}/{0}_normalized.csv\".format(25991))\n",
    "prof26224 = pd.read_csv(\"/dgx1nas1/cellpainting-datasets/CDRP/profiles_cp/{0}/{0}_normalized.csv\".format(26224))\n",
    "prof26239 = pd.read_csv(\"/dgx1nas1/cellpainting-datasets/CDRP/profiles_cp/{0}/{0}_normalized.csv\".format(26239))\n",
    "prof24277 = pd.read_csv(\"/dgx1nas1/cellpainting-datasets/CDRP/profiles_cp/{0}/{0}_normalized.csv\".format(24277))\n",
    "prof24279 = pd.read_csv(\"/dgx1nas1/cellpainting-datasets/CDRP/profiles_cp/{0}/{0}_normalized.csv\".format(24279))\n",
    "prof24293 = pd.read_csv(\"/dgx1nas1/cellpainting-datasets/CDRP/profiles_cp/{0}/{0}_normalized.csv\".format(24293))\n",
    "prof24295 = pd.read_csv(\"/dgx1nas1/cellpainting-datasets/CDRP/profiles_cp/{0}/{0}_normalized.csv\".format(24295))\n",
    "prof24297 = pd.read_csv(\"/dgx1nas1/cellpainting-datasets/CDRP/profiles_cp/{0}/{0}_normalized.csv\".format(24297))\n",
    "prof24301 = pd.read_csv(\"/dgx1nas1/cellpainting-datasets/CDRP/profiles_cp/{0}/{0}_normalized.csv\".format(24301))\n",
    "prof24303 = pd.read_csv(\"/dgx1nas1/cellpainting-datasets/CDRP/profiles_cp/{0}/{0}_normalized.csv\".format(24303))\n",
    "prof24305 = pd.read_csv(\"/dgx1nas1/cellpainting-datasets/CDRP/profiles_cp/{0}/{0}_normalized.csv\".format(24305))\n",
    "prof24307 = pd.read_csv(\"/dgx1nas1/cellpainting-datasets/CDRP/profiles_cp/{0}/{0}_normalized.csv\".format(24307))\n",
    "prof24309 = pd.read_csv(\"/dgx1nas1/cellpainting-datasets/CDRP/profiles_cp/{0}/{0}_normalized.csv\".format(24309))\n",
    "prof24311 = pd.read_csv(\"/dgx1nas1/cellpainting-datasets/CDRP/profiles_cp/{0}/{0}_normalized.csv\".format(24311))\n",
    "prof24313 = pd.read_csv(\"/dgx1nas1/cellpainting-datasets/CDRP/profiles_cp/{0}/{0}_normalized.csv\".format(24313))\n",
    "prof24320 = pd.read_csv(\"/dgx1nas1/cellpainting-datasets/CDRP/profiles_cp/{0}/{0}_normalized.csv\".format(24320))\n",
    "prof24352 = pd.read_csv(\"/dgx1nas1/cellpainting-datasets/CDRP/profiles_cp/{0}/{0}_normalized.csv\".format(24352))\n",
    "prof25937 = pd.read_csv(\"/dgx1nas1/cellpainting-datasets/CDRP/profiles_cp/{0}/{0}_normalized.csv\".format(25937))\n",
    "prof25939 = pd.read_csv(\"/dgx1nas1/cellpainting-datasets/CDRP/profiles_cp/{0}/{0}_normalized.csv\".format(25939))\n",
    "prof25944 = pd.read_csv(\"/dgx1nas1/cellpainting-datasets/CDRP/profiles_cp/{0}/{0}_normalized.csv\".format(25944))\n",
    "prof25949 = pd.read_csv(\"/dgx1nas1/cellpainting-datasets/CDRP/profiles_cp/{0}/{0}_normalized.csv\".format(25949))\n",
    "prof25962 = pd.read_csv(\"/dgx1nas1/cellpainting-datasets/CDRP/profiles_cp/{0}/{0}_normalized.csv\".format(25962))\n",
    "prof25966 = pd.read_csv(\"/dgx1nas1/cellpainting-datasets/CDRP/profiles_cp/{0}/{0}_normalized.csv\".format(25966))\n",
    "prof25968 = pd.read_csv(\"/dgx1nas1/cellpainting-datasets/CDRP/profiles_cp/{0}/{0}_normalized.csv\".format(25968))\n",
    "prof25984 = pd.read_csv(\"/dgx1nas1/cellpainting-datasets/CDRP/profiles_cp/{0}/{0}_normalized.csv\".format(25984))\n",
    "prof25986 = pd.read_csv(\"/dgx1nas1/cellpainting-datasets/CDRP/profiles_cp/{0}/{0}_normalized.csv\".format(25986))\n",
    "prof25988 = pd.read_csv(\"/dgx1nas1/cellpainting-datasets/CDRP/profiles_cp/{0}/{0}_normalized.csv\".format(25988))\n",
    "prof25990 = pd.read_csv(\"/dgx1nas1/cellpainting-datasets/CDRP/profiles_cp/{0}/{0}_normalized.csv\".format(25990))\n",
    "prof25992 = pd.read_csv(\"/dgx1nas1/cellpainting-datasets/CDRP/profiles_cp/{0}/{0}_normalized.csv\".format(25992))\n",
    "prof26232 = pd.read_csv(\"/dgx1nas1/cellpainting-datasets/CDRP/profiles_cp/{0}/{0}_normalized.csv\".format(26232))\n",
    "prof26247 = pd.read_csv(\"/dgx1nas1/cellpainting-datasets/CDRP/profiles_cp/{0}/{0}_normalized.csv\".format(26247))"
   ]
  },
  {
   "cell_type": "code",
   "execution_count": null,
   "metadata": {
    "collapsed": false,
    "pycharm": {
     "name": "#%%\n"
    }
   },
   "outputs": [],
   "source": [
    "well_level_data = pd.concat([prof24278,prof24280,prof24294,prof24296,prof24300,prof24302,prof24304,prof24306,prof24308,prof24310,prof24312,prof24319,prof24321,prof24357,prof25938,prof25943,prof25945,prof25955,prof25965,prof25967,prof25983,prof25985,prof25987,prof25989,prof25991,prof26224,prof26239,prof24277,prof24279,prof24293,prof24295,prof24297,prof24301,prof24303,prof24305,prof24307,prof24309,prof24311,prof24313,prof24320,prof24352,prof25937,prof25939,prof25944,prof25949,prof25962,prof25966,prof25968,prof25984,prof25986,prof25988,prof25990,prof25992,prof26232,prof26247])\n",
    "well_level_data['Treatment'] = well_level_data['Metadata_broad_sample'] + '@' + well_level_data['Metadata_mmoles_per_liter'].astype(str)\n",
    "well_level_data.drop(['Metadata_Assay_Plate_Barcode', 'Metadata_Plate_Map_Name', 'Metadata_well_position', 'Metadata_mmoles_per_liter', 'Metadata_ASSAY_WELL_ROLE', 'Metadata_solvent', 'Metadata_pert_id', 'Metadata_pert_mfc_id', 'Metadata_pert_well',\n",
    "                     'Metadata_pert_id_vendor', 'Metadata_cell_id', 'Metadata_broad_sample_type', 'Metadata_pert_vehicle', 'Metadata_pert_type' ], axis=1, inplace=True)\n",
    "\n",
    "columns1 = [\"Metadata_Plate\", \"Metadata_Well\", \"Metadata_broad_sample\", \"Treatment\"]\n",
    "columns2 = [i for i in well_level_data.columns if i not in columns1]\n",
    "part1 = well_level_data.loc[:, columns1]\n",
    "part2 = well_level_data.loc[:, columns2]\n",
    "\n",
    "part2.dropna(axis='columns', inplace=True)\n",
    "\n",
    "well_level_data = pd.concat([part1, part2],axis=1)\n",
    "well_level_data.reset_index(inplace=True, drop=True)\n",
    "columns2 = [i for i in well_level_data.columns if i not in columns1]"
   ]
  },
  {
   "cell_type": "code",
   "execution_count": null,
   "metadata": {
    "collapsed": false,
    "pycharm": {
     "name": "#%%\n"
    }
   },
   "outputs": [],
   "source": [
    "meta1 = meta.loc[:, ['Metadata_Plate', 'Metadata_Well', 'broad_sample_Replicate', 'Treatment']]\n",
    "well_level_data = well_level_data.merge(meta1, how='right', left_on=['Metadata_Plate', 'Metadata_Well'], right_on=['Metadata_Plate', 'Metadata_Well']).drop_duplicates()\n",
    "well_level_data.drop(columns=['Treatment_x'], inplace = True)\n",
    "well_level_data.rename(columns = {'Treatment_y':'Treatment'}, inplace = True)\n",
    "well_level_data = well_level_data.astype({'Metadata_Plate':'object', 'Metadata_Well':'object', 'Metadata_broad_sample':'object', 'broad_sample_Replicate':'object', 'Treatment':'object'})\n",
    "well_level_data.reset_index(drop=True, inplace=True)"
   ]
  },
  {
   "cell_type": "markdown",
   "metadata": {
    "pycharm": {
     "name": "#%% md\n"
    }
   },
   "source": [
    "# 4. Sphering"
   ]
  },
  {
   "cell_type": "code",
   "execution_count": null,
   "metadata": {
    "pycharm": {
     "name": "#%%\n"
    }
   },
   "outputs": [],
   "source": [
    "whN = profiling.WhiteningNormalizer(well_level_data.loc[well_level_data[\"Metadata_broad_sample\"].isin([\"DMSO\"]), columns2], REG_PARAM)"
   ]
  },
  {
   "cell_type": "code",
   "execution_count": null,
   "metadata": {
    "pycharm": {
     "name": "#%%\n"
    }
   },
   "outputs": [],
   "source": [
    "whD = whN.normalize(well_level_data[columns2])"
   ]
  },
  {
   "cell_type": "code",
   "execution_count": null,
   "metadata": {
    "pycharm": {
     "name": "#%%\n"
    }
   },
   "outputs": [],
   "source": [
    "# Save whitened profiles\n",
    "well_level_data[columns2] = whD\n",
    "well_level_data.to_csv(OUTPUT_FILE, index=False)"
   ]
  },
  {
   "cell_type": "markdown",
   "metadata": {
    "pycharm": {
     "name": "#%% md\n"
    }
   },
   "source": [
    "# 5. Treatment-level profiles / Mean Aggreagation"
   ]
  },
  {
   "cell_type": "code",
   "execution_count": null,
   "metadata": {
    "pycharm": {
     "name": "#%%\n"
    }
   },
   "outputs": [],
   "source": [
    "# Aggregate profiles\n",
    "well_level_data[\"Metadata_broad_sample\"] = well_level_data[\"Treatment\"].str.split(\"@\", expand=True)[0]\n",
    "columns1 = [\"Metadata_Plate\", \"Metadata_Well\", \"Treatment\", \"broad_sample_Replicate\", \"Metadata_broad_sample\"]\n",
    "columns2 = list(well_level_data.columns)[3:-2]\n",
    "profiles = well_level_data.groupby(\"Treatment\").mean().reset_index()"
   ]
  },
  {
   "cell_type": "code",
   "execution_count": null,
   "metadata": {
    "pycharm": {
     "name": "#%%\n"
    }
   },
   "outputs": [],
   "source": [
    "# Recover broad_sample column (cannot be used in groupby because it contains NaN values)\n",
    "tmp = well_level_data.groupby([\"Treatment\", \"Metadata_broad_sample\"])[\"broad_sample_Replicate\"].count().reset_index()\n",
    "profiles = pd.merge(profiles.reset_index(drop=True), tmp, on=\"Treatment\", how=\"left\")"
   ]
  },
  {
   "cell_type": "code",
   "execution_count": null,
   "metadata": {
    "pycharm": {
     "name": "#%%\n"
    }
   },
   "outputs": [],
   "source": [
    "profiles = profiles[[\"Treatment\", \"Metadata_broad_sample\"] + columns2]"
   ]
  },
  {
   "cell_type": "code",
   "execution_count": null,
   "metadata": {
    "pycharm": {
     "name": "#%%\n"
    }
   },
   "outputs": [],
   "source": [
    "# Remove samples without MOA (according to [1])\n",
    "Y = pd.read_csv(\"data/CDRP_MOA_MATCHES_fixed_trimmed_filtered_v2.csv\")\n",
    "profiles = pd.merge(profiles, Y, left_on=\"Metadata_broad_sample\", right_on=\"Var1\")\n",
    "profiles = profiles[[\"Treatment\", \"Metadata_broad_sample\", \"Metadata_moa.x\"] + columns2].sort_values(by=\"Metadata_broad_sample\")"
   ]
  },
  {
   "cell_type": "markdown",
   "metadata": {
    "pycharm": {
     "name": "#%% md\n"
    }
   },
   "source": [
    "# 6. Correlation matrix"
   ]
  },
  {
   "cell_type": "code",
   "execution_count": null,
   "metadata": {
    "pycharm": {
     "name": "#%%\n"
    }
   },
   "outputs": [],
   "source": [
    "# Compute Pearson correlation\n",
    "COS = sklearn.metrics.pairwise.cosine_similarity(profiles[columns2], profiles[columns2])"
   ]
  },
  {
   "cell_type": "code",
   "execution_count": null,
   "metadata": {
    "pycharm": {
     "name": "#%%\n"
    }
   },
   "outputs": [],
   "source": [
    "# Transform to tidy format\n",
    "df = pd.DataFrame(data=COS, index=list(profiles.Metadata_broad_sample), columns=list(profiles.Metadata_broad_sample))\n",
    "df = df.reset_index().melt(id_vars=[\"index\"])"
   ]
  },
  {
   "cell_type": "code",
   "execution_count": null,
   "metadata": {
    "pycharm": {
     "name": "#%%\n"
    }
   },
   "outputs": [],
   "source": [
    "# Annotate rows\n",
    "df2 = pd.merge(\n",
    "    df, \n",
    "    profiles[[\"Metadata_broad_sample\", \"Metadata_moa.x\"]], \n",
    "    how=\"left\", \n",
    "    left_on=\"index\", # <=== Rows\n",
    "    right_on=\"Metadata_broad_sample\"\n",
    ").drop(\"Metadata_broad_sample\",axis=1)\n",
    "\n",
    "# Annotate columns\n",
    "df2 = pd.merge(\n",
    "    df2, profiles[[\"Metadata_broad_sample\", \"Metadata_moa.x\"]],\n",
    "    how=\"left\", \n",
    "    left_on=\"variable\", # <=== Columns\n",
    "    right_on=\"Metadata_broad_sample\"\n",
    ").drop(\"Metadata_broad_sample\",axis=1)"
   ]
  },
  {
   "cell_type": "code",
   "execution_count": null,
   "metadata": {
    "pycharm": {
     "name": "#%%\n"
    }
   },
   "outputs": [],
   "source": [
    "# Rename columns and save\n",
    "df2.columns = [\"Var1\", \"Var2\", \"value\", \"Metadata_moa.x\", \"Metadata_moa.y\"]\n",
    "df2.to_csv(MATRIX_FILE)"
   ]
  },
  {
   "cell_type": "code",
   "execution_count": null,
   "metadata": {
    "pycharm": {
     "name": "#%%\n"
    }
   },
   "outputs": [],
   "source": []
  }
 ],
 "metadata": {
  "kernelspec": {
   "display_name": "Python 3",
   "language": "python",
   "name": "python3"
  },
  "language_info": {
   "codemirror_mode": {
    "name": "ipython",
    "version": 3
   },
   "file_extension": ".py",
   "mimetype": "text/x-python",
   "name": "python",
   "nbconvert_exporter": "python",
   "pygments_lexer": "ipython3",
   "version": "3.7.3"
  }
 },
 "nbformat": 4,
 "nbformat_minor": 4
}
