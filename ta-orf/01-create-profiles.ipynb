{
 "cells": [
  {
   "cell_type": "code",
   "execution_count": null,
   "metadata": {
    "pycharm": {
     "name": "#%%\n"
    }
   },
   "outputs": [],
   "source": [
    "import pandas as pd\n",
    "import numpy as np\n",
    "import os\n",
    "import sys\n",
    "import sklearn.metrics\n",
    "\n",
    "from tqdm import tqdm\n",
    "\n",
    "sys.path.append(\"../profiling/\")\n",
    "import profiling"
   ]
  },
  {
   "cell_type": "code",
   "execution_count": null,
   "metadata": {
    "collapsed": false,
    "pycharm": {
     "name": "#%%\n"
    }
   },
   "outputs": [],
   "source": [
    "PROJECT_ROOT = \"/raid/data/cellpainting/TAORF/\"\n",
    "EXP = \"cp_dataset\"\n",
    "OUTPUT_FILE = \"well_level_data_efn128combinedplatesout_conv6a_1e-2_e30.csv\"\n",
    "MATRIX_FILE = \"cos_efn128combinedplatesout_conv6a_1e-2_e30.csv\"\n",
    "REG_PARAM = 1e-2"
   ]
  },
  {
   "cell_type": "code",
   "execution_count": null,
   "metadata": {
    "collapsed": false,
    "pycharm": {
     "name": "#%%\n"
    }
   },
   "outputs": [],
   "source": [
    "# Load metadata\n",
    "meta = pd.read_csv(os.path.join(PROJECT_ROOT, \"inputs/metadata/index_taorf_minus2wells.csv\"))"
   ]
  },
  {
   "cell_type": "markdown",
   "metadata": {
    "collapsed": false,
    "pycharm": {
     "name": "#%% md\n"
    }
   },
   "source": [
    "# 1. Load single-cell data"
   ]
  },
  {
   "cell_type": "code",
   "execution_count": null,
   "metadata": {
    "collapsed": false,
    "pycharm": {
     "name": "#%%\n"
    }
   },
   "outputs": [],
   "source": [
    "features = []\n",
    "channels = ['DNA','RNA', 'ER', 'AGP', 'Mito']\n",
    "for i in tqdm(meta.index):\n",
    "        filename = PROJECT_ROOT + \"outputs/\" + EXP + \"/features/{}/{}/{}.npz\"\n",
    "        filename = filename.format(\n",
    "            meta.loc[i, \"Metadata_Plate\"],\n",
    "            meta.loc[i, \"Metadata_Well\"],\n",
    "            meta.loc[i, \"Metadata_Site\"],\n",
    "        )\n",
    "        if os.path.isfile(filename):\n",
    "            with open(filename, \"rb\") as data:\n",
    "                info = np.load(data)\n",
    "                cells = np.array(np.copy(info[\"features\"]))\n",
    "                cells_f = cells[~np.isnan(cells).any(axis=1)]\n",
    "                features.append(cells_f)\n",
    "        else:\n",
    "            features.append([])"
   ]
  },
  {
   "cell_type": "code",
   "execution_count": null,
   "metadata": {
    "collapsed": false,
    "pycharm": {
     "name": "#%%\n"
    }
   },
   "outputs": [],
   "source": [
    "total_single_cells = 0\n",
    "for i in range(len(features)):\n",
    "    if len(features[i]) > 0:\n",
    "        total_single_cells += features[i].shape[0]\n",
    "\n",
    "num_features = features[0].shape[1]\n",
    "print(\"Total images\",len(features),features[0].shape)\n",
    "print(\"Total single cells:\", total_single_cells)"
   ]
  },
  {
   "cell_type": "markdown",
   "metadata": {
    "collapsed": false,
    "pycharm": {
     "name": "#%% md\n"
    }
   },
   "source": [
    "# 2. Site-level profiles / Median Aggregation"
   ]
  },
  {
   "cell_type": "code",
   "execution_count": null,
   "metadata": {
    "collapsed": false,
    "pycharm": {
     "name": "#%%\n"
    }
   },
   "outputs": [],
   "source": [
    "site_level_data = []\n",
    "site_level_features = []\n",
    "for plate in tqdm(meta[\"Metadata_Plate\"].unique()):\n",
    "    m1 = meta[\"Metadata_Plate\"] == plate\n",
    "    wells = meta[m1][\"Metadata_Well\"].unique()\n",
    "    for well in wells:\n",
    "        result = meta.query(\"Metadata_Plate == '{}' and Metadata_Well == '{}'\".format(plate, well))\n",
    "        for i in result.index:\n",
    "            if len(features[i]) == 0:\n",
    "                continue\n",
    "            mean_profile = np.median(features[i], axis=0)\n",
    "            pert_name = result[\"pert_name\"].unique()\n",
    "            replicate = result[\"pert_name_replicate\"].unique()\n",
    "            broad_sample = result[\"broad_sample\"].unique()\n",
    "            site_level_data.append(\n",
    "                {\n",
    "                    \"Plate\": plate,\n",
    "                    \"Well\": well,\n",
    "                    \"pert_name\": pert_name[0],\n",
    "                    \"Replicate\": replicate[0],\n",
    "                    \"broad_sample\": broad_sample[0]\n",
    "                }\n",
    "            )\n",
    "            site_level_features.append(mean_profile)"
   ]
  },
  {
   "cell_type": "code",
   "execution_count": null,
   "metadata": {
    "collapsed": false,
    "pycharm": {
     "name": "#%%\n"
    }
   },
   "outputs": [],
   "source": [
    "columns1 = [\"Plate\", \"Well\", \"pert_name\", \"Replicate\", \"broad_sample\"]\n",
    "columns2 = [i for i in range(num_features)]\n",
    "\n",
    "sites1 = pd.DataFrame(columns=columns1, data=site_level_data)\n",
    "sites2 = pd.DataFrame(columns=columns2, data=site_level_features)\n",
    "sites = pd.concat([sites1, sites2], axis=1)"
   ]
  },
  {
   "cell_type": "markdown",
   "metadata": {
    "collapsed": false,
    "pycharm": {
     "name": "#%% md\n"
    }
   },
   "source": [
    "# 3. Well-level profiles / Mean Aggregation"
   ]
  },
  {
   "cell_type": "code",
   "execution_count": null,
   "metadata": {
    "collapsed": false,
    "pycharm": {
     "name": "#%%\n"
    }
   },
   "outputs": [],
   "source": [
    "# Collapse well data\n",
    "wells = sites.groupby([\"Plate\", \"Well\", \"pert_name\"]).mean().reset_index()\n",
    "\n",
    "tmp = meta.groupby([\"Metadata_Plate\", \"Metadata_Well\", \"pert_name\", \"broad_sample\"])[\"DNA\"].count().reset_index()\n",
    "wells = pd.merge(wells, tmp, how=\"left\", left_on=[\"Plate\", \"Well\", \"pert_name\"], right_on=[\"Metadata_Plate\", \"Metadata_Well\", \"pert_name\"])\n",
    "\n",
    "wells = wells[columns1 + columns2]"
   ]
  },
  {
   "cell_type": "markdown",
   "metadata": {
    "collapsed": false,
    "pycharm": {
     "name": "#%% md\n"
    }
   },
   "source": [
    "# 4. Sphering"
   ]
  },
  {
   "cell_type": "code",
   "execution_count": null,
   "metadata": {
    "collapsed": false,
    "pycharm": {
     "name": "#%%\n"
    }
   },
   "outputs": [],
   "source": [
    "whN = profiling.WhiteningNormalizer(wells.loc[wells[\"pert_name\"].isin([\"EMPTY_\"]), columns2], REG_PARAM)"
   ]
  },
  {
   "cell_type": "code",
   "execution_count": null,
   "metadata": {
    "collapsed": false,
    "pycharm": {
     "name": "#%%\n"
    }
   },
   "outputs": [],
   "source": [
    "whD = whN.normalize(wells[columns2])"
   ]
  },
  {
   "cell_type": "code",
   "execution_count": null,
   "metadata": {
    "collapsed": false,
    "pycharm": {
     "name": "#%%\n"
    }
   },
   "outputs": [],
   "source": [
    "# Save whitened profiles\n",
    "wells[columns2] = whD\n",
    "wells.to_csv(OUTPUT_FILE, index=False)"
   ]
  },
  {
   "cell_type": "markdown",
   "metadata": {
    "collapsed": false,
    "pycharm": {
     "name": "#%% md\n"
    }
   },
   "source": [
    "# 5. Treatment-level profiles / Mean Aggreagation"
   ]
  },
  {
   "cell_type": "code",
   "execution_count": null,
   "metadata": {
    "collapsed": false,
    "pycharm": {
     "name": "#%%\n"
    }
   },
   "outputs": [],
   "source": [
    "# Aggregate profiles\n",
    "columns1 = [\"Plate\", \"Well\", \"pert_name\", \"Replicate\", \"broad_sample\"]\n",
    "columns2 = [i for i in range(num_features)] \n",
    "profiles = wells.groupby(\"pert_name\").mean().reset_index()"
   ]
  },
  {
   "cell_type": "code",
   "execution_count": null,
   "metadata": {
    "collapsed": false,
    "pycharm": {
     "name": "#%%\n"
    }
   },
   "outputs": [],
   "source": [
    "# Recover broad_sample column (cannot be used in groupby because it contains NaN values)\n",
    "tmp = wells.groupby([\"pert_name\", \"broad_sample\"])[\"Replicate\"].count().reset_index()\n",
    "profiles = pd.merge(profiles.reset_index(), tmp, on=\"pert_name\", how=\"left\")\n",
    "profiles = profiles[[\"pert_name\", \"broad_sample\"] + columns2]"
   ]
  },
  {
   "cell_type": "code",
   "execution_count": null,
   "metadata": {
    "collapsed": false,
    "pycharm": {
     "name": "#%%\n"
    }
   },
   "outputs": [],
   "source": [
    "# Remove samples without MOA (according to [1])\n",
    "Y = pd.read_csv(\"data/TAORF_MOA_MATCHES_official.csv\")\n",
    "profiles = pd.merge(profiles, Y, left_on=\"broad_sample\", right_on=\"Var1\")\n",
    "profiles = profiles[[\"pert_name\", \"broad_sample\", \"Metadata_moa.x\"] + columns2].sort_values(by=\"broad_sample\")"
   ]
  },
  {
   "cell_type": "markdown",
   "metadata": {
    "collapsed": false,
    "pycharm": {
     "name": "#%% md\n"
    }
   },
   "source": [
    "# 6. Similarity matrix"
   ]
  },
  {
   "cell_type": "code",
   "execution_count": null,
   "metadata": {
    "collapsed": false,
    "pycharm": {
     "name": "#%%\n"
    }
   },
   "outputs": [],
   "source": [
    "# Compute Cosine Similarities\n",
    "COS = sklearn.metrics.pairwise.cosine_similarity(profiles[columns2], profiles[columns2])"
   ]
  },
  {
   "cell_type": "code",
   "execution_count": null,
   "metadata": {
    "collapsed": false,
    "pycharm": {
     "name": "#%%\n"
    }
   },
   "outputs": [],
   "source": [
    "# Transform to tidy format\n",
    "df = pd.DataFrame(data=COS, index=list(profiles.broad_sample), columns=list(profiles.broad_sample))\n",
    "df = df.reset_index().melt(id_vars=[\"index\"])"
   ]
  },
  {
   "cell_type": "code",
   "execution_count": null,
   "metadata": {
    "collapsed": false,
    "pycharm": {
     "name": "#%%\n"
    }
   },
   "outputs": [],
   "source": [
    "# Annotate rows\n",
    "df2 = pd.merge(\n",
    "    df, \n",
    "    profiles[[\"broad_sample\", \"Metadata_moa.x\"]], \n",
    "    how=\"left\", \n",
    "    left_on=\"index\", # <=== Rows\n",
    "    right_on=\"broad_sample\"\n",
    ").drop(\"broad_sample\",axis=1)\n",
    "\n",
    "# Annotate columns\n",
    "df2 = pd.merge(\n",
    "    df2, profiles[[\"broad_sample\", \"Metadata_moa.x\"]],\n",
    "    how=\"left\", \n",
    "    left_on=\"variable\", # <=== Columns\n",
    "    right_on=\"broad_sample\"\n",
    ").drop(\"broad_sample\",axis=1)"
   ]
  },
  {
   "cell_type": "code",
   "execution_count": null,
   "metadata": {
    "collapsed": false,
    "pycharm": {
     "name": "#%%\n"
    }
   },
   "outputs": [],
   "source": [
    "# Rename columns and save\n",
    "df2.columns = [\"Var1\", \"Var2\", \"value\", \"Metadata_moa.x\", \"Metadata_moa.y\"]\n",
    "df2.to_csv(MATRIX_FILE, index=False)"
   ]
  }
 ],
 "metadata": {
  "kernelspec": {
   "display_name": "Python 3",
   "language": "python",
   "name": "python3"
  },
  "language_info": {
   "codemirror_mode": {
    "name": "ipython",
    "version": 3
   },
   "file_extension": ".py",
   "mimetype": "text/x-python",
   "name": "python",
   "nbconvert_exporter": "python",
   "pygments_lexer": "ipython3",
   "version": "3.7.3"
  }
 },
 "nbformat": 4,
 "nbformat_minor": 4
}
