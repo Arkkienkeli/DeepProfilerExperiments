{
 "cells": [
  {
   "cell_type": "code",
   "execution_count": null,
   "metadata": {
    "pycharm": {
     "name": "#%%\n"
    }
   },
   "outputs": [],
   "source": [
    "import pandas as pd\n",
    "import numpy as np\n",
    "import sklearn.metrics\n",
    "import os\n",
    "import sys\n",
    "\n",
    "sys.path.append(\"../profiling/\")\n",
    "import profiling"
   ]
  },
  {
   "cell_type": "code",
   "execution_count": null,
   "metadata": {
    "pycharm": {
     "name": "#%%\n"
    }
   },
   "outputs": [],
   "source": [
    "PROJECT_ROOT = \"/raid/data/cellpainting/TAORF/\"\n",
    "OUTPUT_FILE = \"well_level_data_cellprofiler_1e-2.csv\"\n",
    "MATRIX_FILE = \"cos_cellprofiler_1e-2.csv\"\n",
    "REG_PARAM = 1e-2"
   ]
  },
  {
   "cell_type": "code",
   "execution_count": null,
   "metadata": {
    "pycharm": {
     "name": "#%%\n"
    }
   },
   "outputs": [],
   "source": [
    "# Load metadata\n",
    "meta = pd.read_csv(os.path.join(PROJECT_ROOT, \"inputs/metadata/index_taorf_minus2wells.csv\"))"
   ]
  },
  {
   "cell_type": "code",
   "execution_count": null,
   "metadata": {
    "pycharm": {
     "name": "#%%\n"
    }
   },
   "outputs": [],
   "source": [
    "# Load profiles\n",
    "prof41744 = pd.read_csv(os.path.join(PROJECT_ROOT, \"inputs/cp_features/41744/41744_normalized.csv\")) \n",
    "prof41754 = pd.read_csv(os.path.join(PROJECT_ROOT, \"inputs/cp_features/41754/41754_normalized.csv\")) \n",
    "prof41755 = pd.read_csv(os.path.join(PROJECT_ROOT, \"inputs/cp_features/41755/41755_normalized.csv\")) \n",
    "prof41756 = pd.read_csv(os.path.join(PROJECT_ROOT, \"inputs/cp_features/41756/41756_normalized.csv\")) \n",
    "prof41757 = pd.read_csv(os.path.join(PROJECT_ROOT, \"inputs/cp_features/41757/41757_normalized.csv\")) \n",
    "well_level_data = pd.concat([prof41744, prof41754, prof41755, prof41756, prof41757])\n",
    "well_level_data.drop(['Metadata_Assay_Plate_Barcode', 'Metadata_Plate_Map_Name', 'Metadata_gene_name', 'Metadata_well_position', 'Metadata_cell_line', 'Metadata_ASSAY_WELL_ROLE', 'Metadata_GeneID', 'Metadata_pert_id', \n",
    "                      'Metadata_pert_mfc_id', 'Metadata_pert_well', 'Metadata_pert_id_vendor', 'Metadata_cell_id', 'Metadata_broad_sample_type', 'Metadata_pert_type'], axis=1, inplace=True)\n",
    "\n",
    "columns1 = [\"Metadata_Plate\", \"Metadata_Well\", \"Metadata_pert_name\", \"Metadata_broad_sample\"]\n",
    "columns2 = well_level_data.columns[4:]\n",
    "part1 = well_level_data.loc[:, columns1]\n",
    "part2 = well_level_data.loc[:, columns2]\n",
    "\n",
    "part2.dropna(axis='columns', inplace=True)\n",
    "\n",
    "well_level_data = pd.concat([part1, part2],axis=1)\n",
    "well_level_data.reset_index(inplace=True, drop=True)\n",
    "columns2 = well_level_data.columns[4:]"
   ]
  },
  {
   "cell_type": "code",
   "execution_count": null,
   "outputs": [],
   "source": [
    "#Drop wells which did not pass the QC\n",
    "a = well_level_data[(well_level_data.Metadata_Plate == 41754) & (well_level_data.Metadata_Well.isin(['c01', 'd01']))].index\n",
    "well_level_data.drop(a,inplace=True)\n",
    "well_level_data.reset_index(drop=True,inplace=True)"
   ],
   "metadata": {
    "collapsed": false,
    "pycharm": {
     "name": "#%%\n"
    }
   }
  },
  {
   "cell_type": "code",
   "execution_count": null,
   "outputs": [],
   "source": [
    "meta1 = meta.loc[:,['Metadata_Plate','Metadata_Well','pert_name_replicate']]\n",
    "well_level_data = well_level_data.merge(meta1, how='left', left_on=['Metadata_Plate', 'Metadata_Well'], right_on=['Metadata_Plate', 'Metadata_Well']).drop_duplicates()\n",
    "well_level_data = well_level_data.astype({'pert_name_replicate':'object', 'Metadata_Plate':'object', 'Metadata_Well':'object', 'Metadata_pert_name':'object', 'Metadata_broad_sample':'object'})\n",
    "well_level_data.reset_index(drop=True, inplace=True)"
   ],
   "metadata": {
    "collapsed": false,
    "pycharm": {
     "name": "#%%\n"
    }
   }
  },
  {
   "cell_type": "markdown",
   "metadata": {
    "pycharm": {
     "name": "#%% md\n"
    }
   },
   "source": [
    "# 4. Whitening"
   ]
  },
  {
   "cell_type": "code",
   "execution_count": null,
   "metadata": {
    "pycharm": {
     "name": "#%%\n"
    }
   },
   "outputs": [],
   "source": [
    "whN = profiling.WhiteningNormalizer(well_level_data.loc[well_level_data[\"Metadata_pert_name\"].isin([\"EMPTY_\"]), columns2],REG_PARAM)"
   ]
  },
  {
   "cell_type": "code",
   "execution_count": null,
   "metadata": {
    "pycharm": {
     "name": "#%%\n"
    }
   },
   "outputs": [],
   "source": [
    "whD = whN.normalize(well_level_data[columns2])"
   ]
  },
  {
   "cell_type": "code",
   "execution_count": null,
   "metadata": {
    "pycharm": {
     "name": "#%%\n"
    }
   },
   "outputs": [],
   "source": [
    "# Save whitened profiles\n",
    "well_level_data[columns2] = whD\n",
    "well_level_data.to_csv(OUTPUT_FILE, index=False)"
   ]
  },
  {
   "cell_type": "markdown",
   "metadata": {
    "pycharm": {
     "name": "#%% md\n"
    }
   },
   "source": [
    "# 5. Treatment-level profiles / Mean Aggreagation"
   ]
  },
  {
   "cell_type": "code",
   "execution_count": null,
   "metadata": {
    "pycharm": {
     "name": "#%%\n"
    }
   },
   "outputs": [],
   "source": [
    "# Aggregate profiles\n",
    "profiles = well_level_data.groupby(\"Metadata_pert_name\").mean().reset_index()"
   ]
  },
  {
   "cell_type": "code",
   "execution_count": null,
   "metadata": {
    "pycharm": {
     "name": "#%%\n"
    }
   },
   "outputs": [],
   "source": [
    "# Recover broad_sample column (cannot be used in groupby because it contains NaN values)\n",
    "tmp = well_level_data.groupby([\"Metadata_pert_name\", \"Metadata_broad_sample\"])[\"pert_name_replicate\"].count().reset_index()\n",
    "profiles = pd.merge(profiles.reset_index(), tmp, on=\"Metadata_pert_name\", how=\"left\")\n",
    "profiles = profiles[[\"Metadata_pert_name\", \"Metadata_broad_sample\"] + list(columns2)]"
   ]
  },
  {
   "cell_type": "code",
   "execution_count": null,
   "metadata": {
    "pycharm": {
     "name": "#%%\n"
    }
   },
   "outputs": [],
   "source": [
    "# Remove samples without MOA (according to [1])\n",
    "Y = pd.read_csv(\"/raid/data/cellpainting/TAORF/nikita_experiments/TAORF_MOA_MATCHES.csv\")\n",
    "profiles = pd.merge(profiles, Y, left_on=\"Metadata_broad_sample\", right_on=\"Var1\")\n",
    "profiles = profiles[[\"Metadata_pert_name\", \"Metadata_broad_sample\", \"Metadata_moa.x\"] + list(columns2)].sort_values(by=\"Metadata_broad_sample\")"
   ]
  },
  {
   "cell_type": "markdown",
   "metadata": {
    "pycharm": {
     "name": "#%% md\n"
    }
   },
   "source": [
    "# 6. Correlation matrix"
   ]
  },
  {
   "cell_type": "code",
   "execution_count": null,
   "metadata": {
    "pycharm": {
     "name": "#%%\n"
    }
   },
   "outputs": [],
   "source": [
    "# Compute Pearson correlation\n",
    "COS = sklearn.metrics.pairwise.cosine_similarity(profiles[columns2], profiles[columns2])"
   ]
  },
  {
   "cell_type": "code",
   "execution_count": null,
   "metadata": {
    "pycharm": {
     "name": "#%%\n"
    }
   },
   "outputs": [],
   "source": [
    "# Transform to tidy format\n",
    "df = pd.DataFrame(data=COS, index=list(profiles.Metadata_broad_sample), columns=list(profiles.Metadata_broad_sample))\n",
    "df = df.reset_index().melt(id_vars=[\"index\"])"
   ]
  },
  {
   "cell_type": "code",
   "execution_count": null,
   "metadata": {
    "pycharm": {
     "name": "#%%\n"
    }
   },
   "outputs": [],
   "source": [
    "# Annotate rows\n",
    "df2 = pd.merge(\n",
    "    df, \n",
    "    profiles[[\"Metadata_broad_sample\", \"Metadata_moa.x\"]], \n",
    "    how=\"left\", \n",
    "    left_on=\"index\", # <=== Rows\n",
    "    right_on=\"Metadata_broad_sample\"\n",
    ").drop(\"Metadata_broad_sample\",axis=1)\n",
    "\n",
    "# Annotate columns\n",
    "df2 = pd.merge(\n",
    "    df2, profiles[[\"Metadata_broad_sample\", \"Metadata_moa.x\"]],\n",
    "    how=\"left\", \n",
    "    left_on=\"variable\", # <=== Columns\n",
    "    right_on=\"Metadata_broad_sample\"\n",
    ").drop(\"Metadata_broad_sample\",axis=1)"
   ]
  },
  {
   "cell_type": "code",
   "execution_count": null,
   "metadata": {
    "pycharm": {
     "name": "#%%\n"
    }
   },
   "outputs": [],
   "source": [
    "# Rename columns and save\n",
    "df2.columns = [\"Var1\", \"Var2\", \"value\", \"Metadata_moa.x\", \"Metadata_moa.y\"]\n",
    "df2.to_csv(MATRIX_FILE)"
   ]
  },
  {
   "cell_type": "code",
   "execution_count": null,
   "metadata": {
    "pycharm": {
     "name": "#%%\n"
    }
   },
   "outputs": [],
   "source": []
  }
 ],
 "metadata": {
  "kernelspec": {
   "display_name": "Python 3",
   "language": "python",
   "name": "python3"
  },
  "language_info": {
   "codemirror_mode": {
    "name": "ipython",
    "version": 3
   },
   "file_extension": ".py",
   "mimetype": "text/x-python",
   "name": "python",
   "nbconvert_exporter": "python",
   "pygments_lexer": "ipython3",
   "version": "3.7.3"
  }
 },
 "nbformat": 4,
 "nbformat_minor": 4
}