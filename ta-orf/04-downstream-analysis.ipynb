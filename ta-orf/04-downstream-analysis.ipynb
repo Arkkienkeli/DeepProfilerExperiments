{
 "cells": [
  {
   "cell_type": "markdown",
   "metadata": {},
   "source": [
    "# MOA Evaluation using enrichment analysis\n",
    "\n",
    "- Adopted here: https://www.nature.com/articles/s41467-019-10154-8\n",
    "- Explained here: https://yulab-smu.github.io/clusterProfiler-book/chapter2.html\n",
    "\n",
    "### Procedure:\n",
    "1. Compute similarity / correlation / affinity matrix\n",
    "1. Define MOA matching criteria based on metadata\n",
    "  - https://github.com/carpenterlab/2018_rohban_natcomm/blob/master/code/moa_evaluations.R#L67\n",
    "  - https://github.com/carpenterlab/2018_rohban_natcomm/blob/master/code/evaluate.R#L190\n",
    "1. Find the threshold of top connections (percentile)\n",
    "1. Run enrichment analysis (one-sided version of Fisher's exact test)\n",
    "  - https://github.com/carpenterlab/2018_rohban_natcomm/blob/master/code/moa_evaluations.R#L97\n",
    "  - https://github.com/carpenterlab/2018_rohban_natcomm/blob/master/code/evaluate.R#L205"
   ]
  },
  {
   "cell_type": "code",
   "execution_count": 1,
   "metadata": {},
   "outputs": [],
   "source": [
    "import pandas as pd\n",
    "import numpy as np\n",
    "import seaborn as sb\n",
    "import matplotlib.pyplot as plt\n",
    "import pickle\n",
    "import sys\n",
    "import sklearn\n",
    "\n",
    "sys.path.append(\"../profiling/\")\n",
    "\n",
    "import metrics\n",
    "import quality\n",
    "import profiling"
   ]
  },
  {
   "cell_type": "markdown",
   "metadata": {},
   "source": [
    "# Load correlation matrix"
   ]
  },
  {
   "cell_type": "code",
   "execution_count": 2,
   "metadata": {},
   "outputs": [],
   "source": [
    "SIM_MATRIX = \"data/mixed_validation_matrix.csv\"\n",
    "OUT_RESUTS =  \"data/mixed_validation_eval_results.pkl\""
   ]
  },
  {
   "cell_type": "code",
   "execution_count": 3,
   "metadata": {},
   "outputs": [],
   "source": [
    "X, Y = profiling.load_correlation_matrix(SIM_MATRIX)"
   ]
  },
  {
   "cell_type": "markdown",
   "metadata": {},
   "source": [
    "# MOA matching"
   ]
  },
  {
   "cell_type": "code",
   "execution_count": 4,
   "metadata": {},
   "outputs": [
    {
     "data": {
      "text/html": [
       "<div>\n",
       "<style scoped>\n",
       "    .dataframe tbody tr th:only-of-type {\n",
       "        vertical-align: middle;\n",
       "    }\n",
       "\n",
       "    .dataframe tbody tr th {\n",
       "        vertical-align: top;\n",
       "    }\n",
       "\n",
       "    .dataframe thead th {\n",
       "        text-align: right;\n",
       "    }\n",
       "</style>\n",
       "<table border=\"1\" class=\"dataframe\">\n",
       "  <thead>\n",
       "    <tr style=\"text-align: right;\">\n",
       "      <th></th>\n",
       "      <th>Metadata_moa.x</th>\n",
       "      <th>Var1</th>\n",
       "    </tr>\n",
       "  </thead>\n",
       "  <tbody>\n",
       "    <tr>\n",
       "      <th>0</th>\n",
       "      <td>Apoptosis</td>\n",
       "      <td>5</td>\n",
       "    </tr>\n",
       "    <tr>\n",
       "      <th>1</th>\n",
       "      <td>Autophagy</td>\n",
       "      <td>4</td>\n",
       "    </tr>\n",
       "    <tr>\n",
       "      <th>2</th>\n",
       "      <td>BMP</td>\n",
       "      <td>5</td>\n",
       "    </tr>\n",
       "    <tr>\n",
       "      <th>3</th>\n",
       "      <td>Cell Cycle</td>\n",
       "      <td>7</td>\n",
       "    </tr>\n",
       "    <tr>\n",
       "      <th>4</th>\n",
       "      <td>Chromatin Modifiers</td>\n",
       "      <td>1</td>\n",
       "    </tr>\n",
       "    <tr>\n",
       "      <th>5</th>\n",
       "      <td>Circadian Rhythm</td>\n",
       "      <td>6</td>\n",
       "    </tr>\n",
       "    <tr>\n",
       "      <th>6</th>\n",
       "      <td>Cytoskeletal Re-org</td>\n",
       "      <td>5</td>\n",
       "    </tr>\n",
       "    <tr>\n",
       "      <th>7</th>\n",
       "      <td>DNA Damage</td>\n",
       "      <td>3</td>\n",
       "    </tr>\n",
       "    <tr>\n",
       "      <th>8</th>\n",
       "      <td>ER Stress/UPR</td>\n",
       "      <td>12</td>\n",
       "    </tr>\n",
       "    <tr>\n",
       "      <th>9</th>\n",
       "      <td>Hedgehog</td>\n",
       "      <td>3</td>\n",
       "    </tr>\n",
       "    <tr>\n",
       "      <th>10</th>\n",
       "      <td>Hippo</td>\n",
       "      <td>7</td>\n",
       "    </tr>\n",
       "    <tr>\n",
       "      <th>11</th>\n",
       "      <td>Hypoxia</td>\n",
       "      <td>10</td>\n",
       "    </tr>\n",
       "    <tr>\n",
       "      <th>12</th>\n",
       "      <td>Insulin Receptor Signaling</td>\n",
       "      <td>4</td>\n",
       "    </tr>\n",
       "    <tr>\n",
       "      <th>13</th>\n",
       "      <td>JAK/STAT</td>\n",
       "      <td>3</td>\n",
       "    </tr>\n",
       "    <tr>\n",
       "      <th>14</th>\n",
       "      <td>MAPK</td>\n",
       "      <td>28</td>\n",
       "    </tr>\n",
       "    <tr>\n",
       "      <th>15</th>\n",
       "      <td>Mitochondria Oxidative Phosphorylation</td>\n",
       "      <td>3</td>\n",
       "    </tr>\n",
       "    <tr>\n",
       "      <th>16</th>\n",
       "      <td>NFkB</td>\n",
       "      <td>18</td>\n",
       "    </tr>\n",
       "    <tr>\n",
       "      <th>17</th>\n",
       "      <td>NOTCH</td>\n",
       "      <td>8</td>\n",
       "    </tr>\n",
       "    <tr>\n",
       "      <th>18</th>\n",
       "      <td>PI3K/AKT</td>\n",
       "      <td>13</td>\n",
       "    </tr>\n",
       "    <tr>\n",
       "      <th>19</th>\n",
       "      <td>PKA</td>\n",
       "      <td>9</td>\n",
       "    </tr>\n",
       "    <tr>\n",
       "      <th>20</th>\n",
       "      <td>PKC</td>\n",
       "      <td>3</td>\n",
       "    </tr>\n",
       "    <tr>\n",
       "      <th>21</th>\n",
       "      <td>RTK</td>\n",
       "      <td>3</td>\n",
       "    </tr>\n",
       "    <tr>\n",
       "      <th>22</th>\n",
       "      <td>SMAD</td>\n",
       "      <td>5</td>\n",
       "    </tr>\n",
       "    <tr>\n",
       "      <th>23</th>\n",
       "      <td>TGFbeta</td>\n",
       "      <td>4</td>\n",
       "    </tr>\n",
       "    <tr>\n",
       "      <th>24</th>\n",
       "      <td>TOR</td>\n",
       "      <td>19</td>\n",
       "    </tr>\n",
       "    <tr>\n",
       "      <th>25</th>\n",
       "      <td>Transcription Factors</td>\n",
       "      <td>2</td>\n",
       "    </tr>\n",
       "    <tr>\n",
       "      <th>26</th>\n",
       "      <td>Translation</td>\n",
       "      <td>2</td>\n",
       "    </tr>\n",
       "    <tr>\n",
       "      <th>27</th>\n",
       "      <td>WNT</td>\n",
       "      <td>13</td>\n",
       "    </tr>\n",
       "  </tbody>\n",
       "</table>\n",
       "</div>"
      ],
      "text/plain": [
       "                            Metadata_moa.x  Var1\n",
       "0                                Apoptosis     5\n",
       "1                                Autophagy     4\n",
       "2                                      BMP     5\n",
       "3                               Cell Cycle     7\n",
       "4                      Chromatin Modifiers     1\n",
       "5                         Circadian Rhythm     6\n",
       "6                      Cytoskeletal Re-org     5\n",
       "7                               DNA Damage     3\n",
       "8                            ER Stress/UPR    12\n",
       "9                                 Hedgehog     3\n",
       "10                                   Hippo     7\n",
       "11                                 Hypoxia    10\n",
       "12              Insulin Receptor Signaling     4\n",
       "13                                JAK/STAT     3\n",
       "14                                    MAPK    28\n",
       "15  Mitochondria Oxidative Phosphorylation     3\n",
       "16                                    NFkB    18\n",
       "17                                   NOTCH     8\n",
       "18                                PI3K/AKT    13\n",
       "19                                     PKA     9\n",
       "20                                     PKC     3\n",
       "21                                     RTK     3\n",
       "22                                    SMAD     5\n",
       "23                                 TGFbeta     4\n",
       "24                                     TOR    19\n",
       "25                   Transcription Factors     2\n",
       "26                             Translation     2\n",
       "27                                     WNT    13"
      ]
     },
     "execution_count": 4,
     "metadata": {},
     "output_type": "execute_result"
    }
   ],
   "source": [
    "moa_classes = Y.groupby(\"Metadata_moa.x\")[\"Var1\"].count().reset_index()\n",
    "moa_classes"
   ]
  },
  {
   "cell_type": "code",
   "execution_count": 5,
   "metadata": {},
   "outputs": [],
   "source": [
    "moa_matches = []\n",
    "for k,r in Y.iterrows():\n",
    "    m = Y[\"Metadata_moa.x\"] == r[\"Metadata_moa.x\"]\n",
    "    moa_matches.append(m)"
   ]
  },
  {
   "cell_type": "code",
   "execution_count": 6,
   "metadata": {},
   "outputs": [
    {
     "data": {
      "text/plain": [
       "<matplotlib.image.AxesImage at 0x7fd0693daf98>"
      ]
     },
     "execution_count": 6,
     "metadata": {},
     "output_type": "execute_result"
    },
    {
     "data": {
      "image/png": "[encoded data removed]",
      "text/plain": [
       "<Figure size 432x288 with 1 Axes>"
      ]
     },
     "metadata": {
      "needs_background": "light"
     },
     "output_type": "display_data"
    }
   ],
   "source": [
    "moa_matches = np.asarray(moa_matches)\n",
    "plt.imshow(moa_matches)"
   ]
  },
  {
   "cell_type": "markdown",
   "metadata": {},
   "source": [
    "# Enrichment analysis"
   ]
  },
  {
   "cell_type": "code",
   "execution_count": null,
   "metadata": {},
   "outputs": [],
   "source": [
    "results = []\n",
    "Z = np.asarray(X[Y.Var1])\n",
    "ut_idx = np.triu_indices(moa_matches.shape[1], k=1)\n",
    "\n",
    "for p in np.arange(98, 99.7, 0.2):\n",
    "    r = quality.enrichment_analysis_matrix(Z[ut_idx], moa_matches[ut_idx], p)\n",
    "    results.append(r)\n",
    "\n",
    "R = pd.DataFrame(data=results)"
   ]
  },
  {
   "cell_type": "code",
   "execution_count": null,
   "metadata": {},
   "outputs": [],
   "source": [
    "plt.figure(figsize=(10,6))\n",
    "plt.plot(100-R[\"percentile\"], R[\"ods_ratio\"])"
   ]
  },
  {
   "cell_type": "markdown",
   "metadata": {},
   "source": [
    "# Average precision analysis"
   ]
  },
  {
   "cell_type": "code",
   "execution_count": 7,
   "metadata": {},
   "outputs": [],
   "source": [
    "def precision_at_k(corr_matrix, moa_matches, rank_pos=None):\n",
    "    results = []\n",
    "    is_query = moa_matches.sum(axis=0) > 1\n",
    "    for i in range(corr_matrix.shape[0]):\n",
    "        if is_query[i]:\n",
    "            rank = np.argsort(-corr_matrix[i,:])\n",
    "            ap = metrics.precision_at_k(moa_matches[i, rank], rank_pos)\n",
    "            results.append(ap)\n",
    "    return results"
   ]
  },
  {
   "cell_type": "code",
   "execution_count": 8,
   "metadata": {},
   "outputs": [],
   "source": [
    "positions = [x for x in range(5,55,5)]\n",
    "SIM = np.asarray(X[Y.Var1])\n",
    "average_precision_at_k = [np.mean( precision_at_k(SIM, moa_matches, pos) ) for pos in positions]"
   ]
  },
  {
   "cell_type": "code",
   "execution_count": 9,
   "metadata": {},
   "outputs": [
    {
     "data": {
      "text/plain": [
       "[<matplotlib.lines.Line2D at 0x7fd069325ba8>]"
      ]
     },
     "execution_count": 9,
     "metadata": {},
     "output_type": "execute_result"
    },
    {
     "data": {
      "image/png": "[encoded data removed]",
      "text/plain": [
       "<Figure size 720x432 with 1 Axes>"
      ]
     },
     "metadata": {
      "needs_background": "light"
     },
     "output_type": "display_data"
    }
   ],
   "source": [
    "plt.figure(figsize=(10,6))\n",
    "plt.plot(positions, average_precision_at_k)"
   ]
  },
  {
   "cell_type": "code",
   "execution_count": 10,
   "metadata": {},
   "outputs": [
    {
     "name": "stdout",
     "output_type": "stream",
     "text": [
      "Average Precision At Top 1% =>  0.2308823529411765\n"
     ]
    }
   ],
   "source": [
    "top_1percent = max(int(X.shape[0]*0.01), 10)\n",
    "top_prec = precision_at_k(SIM, moa_matches, top_1percent)\n",
    "print(\"Average Precision At Top 1% => \", np.mean(top_prec))"
   ]
  },
  {
   "cell_type": "markdown",
   "metadata": {},
   "source": [
    "# Recall analysis"
   ]
  },
  {
   "cell_type": "code",
   "execution_count": 11,
   "metadata": {},
   "outputs": [],
   "source": [
    "def recall_at(corr_matrix, moa_matches, rank_pos=None):\n",
    "    results = []\n",
    "    is_query = moa_matches.sum(axis=0) > 1\n",
    "    for i in range(corr_matrix.shape[0]):\n",
    "        if is_query[i]:\n",
    "            rank = np.argsort(-corr_matrix[i,:])\n",
    "            rc = np.sum(moa_matches[i, rank[1:rank_pos]]) / np.sum(moa_matches[i,:])\n",
    "            results.append(rc)\n",
    "    return results"
   ]
  },
  {
   "cell_type": "code",
   "execution_count": 12,
   "metadata": {},
   "outputs": [],
   "source": [
    "recall = [np.mean( recall_at(SIM, moa_matches, pos) ) for pos in positions]"
   ]
  },
  {
   "cell_type": "code",
   "execution_count": 13,
   "metadata": {},
   "outputs": [
    {
     "name": "stdout",
     "output_type": "stream",
     "text": [
      "Average Recall - Top 50:  0.298154999741687\n"
     ]
    },
    {
     "data": {
      "image/png": "[encoded data removed]",
      "text/plain": [
       "<Figure size 720x432 with 1 Axes>"
      ]
     },
     "metadata": {
      "needs_background": "light"
     },
     "output_type": "display_data"
    }
   ],
   "source": [
    "plt.figure(figsize=(10,6))\n",
    "plt.plot(positions, recall)\n",
    "print(\"Average Recall - Top 50: \", np.mean( recall_at(SIM, moa_matches, 50) ))"
   ]
  },
  {
   "cell_type": "code",
   "execution_count": 14,
   "metadata": {},
   "outputs": [
    {
     "name": "stdout",
     "output_type": "stream",
     "text": [
      "Average Recall At Top 1% =>  0.11261740638675621\n"
     ]
    }
   ],
   "source": [
    "avg_recall_at_top = np.mean( recall_at(SIM, moa_matches, top_1percent) )\n",
    "print(\"Average Recall At Top 1% => \", avg_recall_at_top)"
   ]
  },
  {
   "cell_type": "markdown",
   "metadata": {},
   "source": [
    "# Interpolated Recall-Precision Curve"
   ]
  },
  {
   "cell_type": "code",
   "execution_count": 15,
   "metadata": {},
   "outputs": [
    {
     "name": "stdout",
     "output_type": "stream",
     "text": [
      "Mean Average Precision (MAP): \t 0.17107662559340292\n",
      "Area Under the PR curve: \t 0.17062673038352216\n"
     ]
    },
    {
     "data": {
      "image/png": "[encoded data removed]",
      "text/plain": [
       "<Figure size 720x432 with 1 Axes>"
      ]
     },
     "metadata": {
      "needs_background": "light"
     },
     "output_type": "display_data"
    }
   ],
   "source": [
    "recall_axis, average_precision = metrics.interpolated_precision_recall_curve(moa_matches, SIM)\n",
    "\n",
    "plt.figure(figsize=(10,6))\n",
    "plt.plot(recall_axis, average_precision)\n",
    "\n",
    "print(\"Mean Average Precision (MAP): \\t\", np.mean(average_precision))\n",
    "print(\"Area Under the PR curve: \\t\", sklearn.metrics.auc(recall_axis, average_precision))"
   ]
  },
  {
   "cell_type": "markdown",
   "metadata": {},
   "source": [
    "# Save results"
   ]
  },
  {
   "cell_type": "code",
   "execution_count": null,
   "metadata": {},
   "outputs": [],
   "source": [
    "results = {\n",
    "    \"enrichment\": R,\n",
    "    \"ranking\": positions,\n",
    "    \"precision_at_k\": average_precision_at_k,\n",
    "    \"recall\": recall,\n",
    "    \"avg_prec@top1\": np.mean(top_prec),\n",
    "    \"avg_recall@top1\": avg_recall_at_top,\n",
    "    \"recall_axis\": recall_axis,\n",
    "    \"precision_axis\": average_precision,\n",
    "    \"mean_average_precision\": np.mean(average_precision)\n",
    "}\n",
    "\n",
    "# with open(OUT_RESUTS, \"bw\") as out:\n",
    "#     pickle.dump(results, out)"
   ]
  },
  {
   "cell_type": "code",
   "execution_count": null,
   "metadata": {},
   "outputs": [],
   "source": [
    "results = []\n",
    "Z = np.asarray(X[Y.Var1])\n",
    "ut_idx = np.triu_indices(moa_matches.shape[1], k=1)\n",
    "\n",
    "threshold = threshold = np.percentile(Z[ut_idx], 99.0)\n",
    "positives = np.logical_and(Z > threshold, moa_matches)\n",
    "v11 = np.sum(positives[ut_idx])\n",
    "\n",
    "annotated_positives = pd.DataFrame(X.Var1)\n",
    "annotated_positives[\"Positive_Connections\"] = np.sum(positives, axis=1)\n",
    "annotated_positives"
   ]
  },
  {
   "cell_type": "code",
   "execution_count": null,
   "metadata": {},
   "outputs": [],
   "source": [
    "plt.figure(figsize=(12,12))\n",
    "plt.imshow(positives)"
   ]
  },
  {
   "cell_type": "code",
   "execution_count": null,
   "metadata": {},
   "outputs": [],
   "source": []
  }
 ],
 "metadata": {
  "kernelspec": {
   "display_name": "Python 3",
   "language": "python",
   "name": "python3"
  },
  "language_info": {
   "codemirror_mode": {
    "name": "ipython",
    "version": 3
   },
   "file_extension": ".py",
   "mimetype": "text/x-python",
   "name": "python",
   "nbconvert_exporter": "python",
   "pygments_lexer": "ipython3",
   "version": "3.7.3"
  }
 },
 "nbformat": 4,
 "nbformat_minor": 4
}
