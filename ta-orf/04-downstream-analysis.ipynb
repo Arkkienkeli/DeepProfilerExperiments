{
 "cells": [
  {
   "cell_type": "markdown",
   "metadata": {},
   "source": [
    "# MOA Evaluation using enrichment analysis\n",
    "\n",
    "- Adopted here: https://www.nature.com/articles/s41467-019-10154-8\n",
    "- Explained here: https://yulab-smu.github.io/clusterProfiler-book/chapter2.html\n",
    "\n",
    "### Procedure:\n",
    "1. Compute similarity / correlation / affinity matrix\n",
    "1. Define MOA matching criteria based on metadata\n",
    "  - https://github.com/carpenterlab/2018_rohban_natcomm/blob/master/code/moa_evaluations.R#L67\n",
    "  - https://github.com/carpenterlab/2018_rohban_natcomm/blob/master/code/evaluate.R#L190\n",
    "1. Find the threshold of top connections (percentile)\n",
    "1. Run enrichment analysis (one-sided version of Fisher's exact test)\n",
    "  - https://github.com/carpenterlab/2018_rohban_natcomm/blob/master/code/moa_evaluations.R#L97\n",
    "  - https://github.com/carpenterlab/2018_rohban_natcomm/blob/master/code/evaluate.R#L205"
   ]
  },
  {
   "cell_type": "code",
   "execution_count": 1,
   "metadata": {},
   "outputs": [],
   "source": [
    "import pandas as pd\n",
    "import numpy as np\n",
    "import seaborn as sb\n",
    "import matplotlib.pyplot as plt\n",
    "\n",
    "import metrics\n",
    "import quality\n",
    "import profiling"
   ]
  },
  {
   "cell_type": "markdown",
   "metadata": {},
   "source": [
    "# Load correlation matrix"
   ]
  },
  {
   "cell_type": "code",
   "execution_count": 2,
   "metadata": {},
   "outputs": [],
   "source": [
    "CORR_MATRIX = \"data/correlation_matrix.csv\""
   ]
  },
  {
   "cell_type": "code",
   "execution_count": 3,
   "metadata": {},
   "outputs": [],
   "source": [
    "X, Y = profiling.load_correlation_matrix(CORR_MATRIX)"
   ]
  },
  {
   "cell_type": "markdown",
   "metadata": {},
   "source": [
    "# MOA matching"
   ]
  },
  {
   "cell_type": "code",
   "execution_count": 4,
   "metadata": {},
   "outputs": [
    {
     "data": {
      "text/plain": [
       "Metadata_moa.x\n",
       "Apoptosis                                  5\n",
       "Autophagy                                  4\n",
       "BMP                                        5\n",
       "Cell Cycle                                 7\n",
       "Chromatin Modifiers                        1\n",
       "Circadian Rhythm                           6\n",
       "Cytoskeletal Re-org                        5\n",
       "DNA Damage                                 3\n",
       "ER Stress/UPR                             12\n",
       "Hedgehog                                   3\n",
       "Hippo                                      7\n",
       "Hypoxia                                   10\n",
       "Insulin Receptor Signaling                 4\n",
       "JAK/STAT                                   3\n",
       "MAPK                                      28\n",
       "Mitochondria Oxidative Phosphorylation     3\n",
       "NFkB                                      18\n",
       "NOTCH                                      8\n",
       "PI3K/AKT                                  13\n",
       "PKA                                        9\n",
       "PKC                                        3\n",
       "RTK                                        3\n",
       "SMAD                                       4\n",
       "SMAD/ TGFb                                 1\n",
       "TGFbeta                                    4\n",
       "TOR                                       19\n",
       "Transcription Factors                      2\n",
       "Translation                                2\n",
       "WNT                                       13\n",
       "Name: Var1, dtype: int64"
      ]
     },
     "execution_count": 4,
     "metadata": {},
     "output_type": "execute_result"
    }
   ],
   "source": [
    "Y.groupby(\"Metadata_moa.x\")[\"Var1\"].count()"
   ]
  },
  {
   "cell_type": "code",
   "execution_count": 5,
   "metadata": {},
   "outputs": [],
   "source": [
    "moa_matches = []\n",
    "for k,r in Y.iterrows():\n",
    "    m = Y[\"Metadata_moa.x\"] == r[\"Metadata_moa.x\"]\n",
    "    moa_matches.append(m)"
   ]
  },
  {
   "cell_type": "code",
   "execution_count": 6,
   "metadata": {},
   "outputs": [
    {
     "data": {
      "text/plain": [
       "<matplotlib.image.AxesImage at 0x7f4d42ed9630>"
      ]
     },
     "execution_count": 6,
     "metadata": {},
     "output_type": "execute_result"
    },
    {
     "data": {
      "image/png": "[encoded data removed]",
      "text/plain": [
       "<Figure size 432x288 with 1 Axes>"
      ]
     },
     "metadata": {
      "needs_background": "light"
     },
     "output_type": "display_data"
    }
   ],
   "source": [
    "moa_matches = np.asarray(moa_matches)\n",
    "plt.imshow(moa_matches)"
   ]
  },
  {
   "cell_type": "markdown",
   "metadata": {},
   "source": [
    "# Enrichment analysis"
   ]
  },
  {
   "cell_type": "code",
   "execution_count": 7,
   "metadata": {},
   "outputs": [
    {
     "name": "stdout",
     "output_type": "stream",
     "text": [
      "98.0 0.8270350469585922\n",
      "[[   28   391]\n",
      " [ 1136 19355]] 20910\n",
      "98.2 0.8315299585766087\n",
      "[[   23   354]\n",
      " [ 1141 19392]] 20910\n",
      "98.4 0.8373264767338333\n",
      "[[   21   314]\n",
      " [ 1143 19432]] 20910\n",
      "98.60000000000001 0.8420264045677555\n",
      "[[   18   275]\n",
      " [ 1146 19471]] 20910\n",
      "98.80000000000001 0.8478558386606143\n",
      "[[   17   234]\n",
      " [ 1147 19512]] 20910\n",
      "99.00000000000001 0.8555675370526752\n",
      "[[   13   197]\n",
      " [ 1151 19549]] 20910\n",
      "99.20000000000002 0.8619294434880579\n",
      "[[   11   157]\n",
      " [ 1153 19589]] 20910\n",
      "99.40000000000002 0.8713616386806315\n",
      "[[    9   117]\n",
      " [ 1155 19629]] 20910\n",
      "99.60000000000002 0.8845252868026803\n",
      "[[    5    79]\n",
      " [ 1159 19667]] 20910\n"
     ]
    }
   ],
   "source": [
    "results = []\n",
    "Z = np.asarray(X[Y.Var1])\n",
    "ut_idx = np.triu_indices(moa_matches.shape[1], k=1)\n",
    "\n",
    "for p in np.arange(98, 99.7, 0.2):\n",
    "    r = quality.enrichment_analysis_matrix(Z[ut_idx], moa_matches[ut_idx], p)\n",
    "    results.append(r)\n",
    "\n",
    "R = pd.DataFrame(data=results)"
   ]
  },
  {
   "cell_type": "code",
   "execution_count": 8,
   "metadata": {},
   "outputs": [
    {
     "data": {
      "text/plain": [
       "[<matplotlib.lines.Line2D at 0x7f4d42480668>]"
      ]
     },
     "execution_count": 8,
     "metadata": {},
     "output_type": "execute_result"
    },
    {
     "data": {
      "image/png": "[encoded data removed]",
      "text/plain": [
       "<Figure size 720x432 with 1 Axes>"
      ]
     },
     "metadata": {
      "needs_background": "light"
     },
     "output_type": "display_data"
    }
   ],
   "source": [
    "plt.figure(figsize=(10,6))\n",
    "plt.plot(100-R[\"percentile\"], R[\"ods_ratio\"])"
   ]
  },
  {
   "cell_type": "markdown",
   "metadata": {},
   "source": [
    "# Average precision analysis"
   ]
  },
  {
   "cell_type": "code",
   "execution_count": 9,
   "metadata": {},
   "outputs": [],
   "source": [
    "def average_precision(corr_matrix, moa_matches, rank_pos=None):\n",
    "    results = []\n",
    "    for i in range(corr_matrix.shape[0]):\n",
    "        rank = np.argsort(-corr_matrix[i,:])\n",
    "        ap = metrics.average_precision(moa_matches[i, rank[1:rank_pos]])\n",
    "        results.append(ap)\n",
    "    return results"
   ]
  },
  {
   "cell_type": "code",
   "execution_count": 10,
   "metadata": {},
   "outputs": [],
   "source": [
    "positions = [x for x in range(5,55,5)]\n",
    "CRM = np.asarray(X[Y.Var1])\n",
    "map_at = [np.mean( average_precision(CRM, moa_matches, pos) ) for pos in positions]"
   ]
  },
  {
   "cell_type": "code",
   "execution_count": 11,
   "metadata": {},
   "outputs": [
    {
     "data": {
      "text/plain": [
       "[<matplotlib.lines.Line2D at 0x7f4d3e3ecef0>]"
      ]
     },
     "execution_count": 11,
     "metadata": {},
     "output_type": "execute_result"
    },
    {
     "data": {
      "image/png": "[encoded data removed]",
      "text/plain": [
       "<Figure size 720x432 with 1 Axes>"
      ]
     },
     "metadata": {
      "needs_background": "light"
     },
     "output_type": "display_data"
    }
   ],
   "source": [
    "plt.figure(figsize=(10,6))\n",
    "plt.plot(positions, map_at)"
   ]
  },
  {
   "cell_type": "code",
   "execution_count": 12,
   "metadata": {},
   "outputs": [
    {
     "data": {
      "text/plain": [
       "0.11220953646657301"
      ]
     },
     "execution_count": 12,
     "metadata": {},
     "output_type": "execute_result"
    }
   ],
   "source": [
    "np.mean( average_precision(CRM, moa_matches) )"
   ]
  },
  {
   "cell_type": "markdown",
   "metadata": {},
   "source": [
    "# Recall analysis"
   ]
  },
  {
   "cell_type": "code",
   "execution_count": 13,
   "metadata": {},
   "outputs": [],
   "source": [
    "def recall_at(corr_matrix, moa_matches, rank_pos=None):\n",
    "    results = []\n",
    "    for i in range(corr_matrix.shape[0]):\n",
    "        rank = np.argsort(-corr_matrix[i,:])\n",
    "        rc = np.sum(moa_matches[i, rank[1:rank_pos]]) / np.sum(moa_matches[i,:])\n",
    "        results.append(rc)\n",
    "    return results"
   ]
  },
  {
   "cell_type": "code",
   "execution_count": 14,
   "metadata": {},
   "outputs": [],
   "source": [
    "recall = [np.mean( recall_at(CRM, moa_matches, pos) ) for pos in positions]"
   ]
  },
  {
   "cell_type": "code",
   "execution_count": 15,
   "metadata": {},
   "outputs": [
    {
     "data": {
      "text/plain": [
       "[<matplotlib.lines.Line2D at 0x7f4d3e34f748>]"
      ]
     },
     "execution_count": 15,
     "metadata": {},
     "output_type": "execute_result"
    },
    {
     "data": {
      "image/png": "[encoded data removed]",
      "text/plain": [
       "<Figure size 720x432 with 1 Axes>"
      ]
     },
     "metadata": {
      "needs_background": "light"
     },
     "output_type": "display_data"
    }
   ],
   "source": [
    "plt.figure(figsize=(10,6))\n",
    "plt.plot(positions, recall)"
   ]
  },
  {
   "cell_type": "code",
   "execution_count": 16,
   "metadata": {},
   "outputs": [
    {
     "data": {
      "text/plain": [
       "0.24887382621657334"
      ]
     },
     "execution_count": 16,
     "metadata": {},
     "output_type": "execute_result"
    }
   ],
   "source": [
    "np.mean( recall_at(CRM, moa_matches, 50) )"
   ]
  },
  {
   "cell_type": "code",
   "execution_count": null,
   "metadata": {},
   "outputs": [],
   "source": []
  }
 ],
 "metadata": {
  "kernelspec": {
   "display_name": "Python 3",
   "language": "python",
   "name": "python3"
  },
  "language_info": {
   "codemirror_mode": {
    "name": "ipython",
    "version": 3
   },
   "file_extension": ".py",
   "mimetype": "text/x-python",
   "name": "python",
   "nbconvert_exporter": "python",
   "pygments_lexer": "ipython3",
   "version": "3.7.3"
  }
 },
 "nbformat": 4,
 "nbformat_minor": 4
}
