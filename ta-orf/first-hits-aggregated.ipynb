{
 "cells": [
  {
   "cell_type": "code",
   "execution_count": null,
   "metadata": {
    "pycharm": {
     "name": "#%%\n"
    }
   },
   "outputs": [],
   "source": [
    "import pandas as pd\n",
    "import numpy as np\n",
    "import seaborn as sb\n",
    "import os\n",
    "import umap\n",
    "import time\n",
    "import gc\n",
    "\n",
    "from tqdm import tqdm\n",
    "import matplotlib.pyplot as plt\n",
    "\n",
    "import profiling"
   ]
  },
  {
   "cell_type": "code",
   "execution_count": null,
   "metadata": {
    "pycharm": {
     "name": "#%%\n"
    }
   },
   "outputs": [],
   "source": [
    "PROJECT_ROOT = \"/raid/data/cellpainting/TAORF/\"\n",
    "EXP = \"cp_dataset\"\n",
    "NUM_FEATURES = 672\n",
    "\n",
    "OUTPUT_BASE_NAME = 'efn128_cp_dataset'\n",
    "\n",
    "PERT_NAME = \"pert_name\"\n",
    "CTRL_NAME = \"EMPTY_\"\n",
    "\n",
    "CORR_MATRIX = \"efn128new_cpdataset_train_1e-2_e30.csv\"\n",
    "\n",
    "REG_PARAM = 1e-2"
   ]
  },
  {
   "cell_type": "code",
   "execution_count": null,
   "metadata": {
    "pycharm": {
     "name": "#%%\n"
    }
   },
   "outputs": [],
   "source": [
    "def find_first_hits(features, feats, pert_name, control):\n",
    "    results = []\n",
    "\n",
    "    gen = features[features[pert_name] != control].groupby([\"Metadata_Plate\", \"Metadata_Well\", pert_name])[\"val\"].count().reset_index().iterrows()\n",
    "    for k, r in tqdm(gen):\n",
    "        # Select samples in a well\n",
    "        s = time.time()\n",
    "        well = features.query(f\"Metadata_Plate == {r.Metadata_Plate} & Metadata_Well == '{r.Metadata_Well}'\").index\n",
    "        A = np.asarray(features.loc[well,feats])\n",
    "\n",
    "        # Get cells in other wells\n",
    "        others = features.query(f\"Metadata_Plate != {r.Metadata_Plate} | Metadata_Well != '{r.Metadata_Well}'\").index\n",
    "        B = np.asarray(features.loc[others,feats])\n",
    "\n",
    "        # Compute cosine similarity\n",
    "        C = np.dot(A, B.T)\n",
    "        An = np.linalg.norm(A, axis=1)\n",
    "        Bn = np.linalg.norm(B, axis=1)\n",
    "        cos = C / (An[:,np.newaxis] @ Bn[:,np.newaxis].T)\n",
    "\n",
    "        # Rank cells in other wells\n",
    "        ranking = np.argsort(-cos, axis=1)\n",
    "\n",
    "        # Find first hits\n",
    "        H = np.asarray(features.loc[others, pert_name]  == r[pert_name], dtype=np.uint8)\n",
    "        for h in range(len(well)):\n",
    "            hit = np.where(H[ranking[h]] == 1)[0][0]\n",
    "            results.append({\"Metadata_Plate\":r.Metadata_Plate, \n",
    "                            \"Metadata_Well\":r.Metadata_Well, \n",
    "                            \"pert_name\":r.pert_name,\n",
    "                            \"first_hit\": hit,\n",
    "                           })\n",
    "    return pd.DataFrame(data=results)"
   ]
  },
  {
   "cell_type": "code",
   "execution_count": null,
   "metadata": {
    "pycharm": {
     "name": "#%%\n"
    }
   },
   "outputs": [],
   "source": [
    "def summarize(results):\n",
    "    summary = results.groupby([PERT_NAME])[\"first_hit\"].mean().reset_index()\n",
    "    summary[\"std\"] = results.groupby([PERT_NAME])[\"first_hit\"].std().reset_index()[\"first_hit\"]\n",
    "    summary[\"top_percent\"] = (summary[\"first_hit\"] / len(results))*100\n",
    "    summary[\"percent_group\"] = np.ceil(summary[\"top_percent\"])\n",
    "    summary[\"coef_var\"] = summary[\"std\"] / summary[\"first_hit\"]\n",
    "    summary[\"signal_noise\"] = summary[\"first_hit\"] / summary[\"std\"]\n",
    "    return summary"
   ]
  },
  {
   "cell_type": "code",
   "execution_count": null,
   "metadata": {
    "pycharm": {
     "name": "#%%\n"
    }
   },
   "outputs": [],
   "source": [
    "def visualize(summary):\n",
    "    plt.figure(figsize=(10,5))\n",
    "    summary = summary.sort_values(\"first_hit\",na_position='last')\n",
    "    sb.barplot(data=summary, x=PERT_NAME, y=\"top_percent\")\n",
    "    print(\"Treatments with hits in the top 1%:\", summary[summary[\"top_percent\"] <= 1].shape[0])\n",
    "    plt.show()\n",
    "    return summary"
   ]
  },
  {
   "cell_type": "code",
   "execution_count": null,
   "metadata": {
    "pycharm": {
     "name": "#%%\n"
    }
   },
   "outputs": [],
   "source": [
    "# Load metadata\n",
    "metadata = pd.read_csv(os.path.join(PROJECT_ROOT, \"inputs/metadata/index_taorf_minus2wells.csv\"))\n",
    "Y = pd.read_csv(\"../data/TAORF_MOA_MATCHES.csv\")\n",
    "profiles = pd.merge(metadata, Y, left_on=\"broad_sample\", right_on=\"Var1\")\n",
    "meta = pd.concat((profiles, metadata[metadata[PERT_NAME] == CTRL_NAME]), axis=0).reset_index()"
   ]
  },
  {
   "cell_type": "code",
   "execution_count": null,
   "metadata": {
    "pycharm": {
     "name": "#%%\n"
    }
   },
   "outputs": [],
   "source": [
    "features = []\n",
    "for i in tqdm(meta.index):\n",
    "    filename = PROJECT_ROOT + \"outputs/\" + EXP + \"/features/{}/{}/{}.npz\"\n",
    "    filename = filename.format(\n",
    "        meta.loc[i, \"Metadata_Plate\"], \n",
    "        meta.loc[i, \"Metadata_Well\"], \n",
    "        meta.loc[i, \"Metadata_Site\"],\n",
    "    )\n",
    "    if os.path.isfile(filename):\n",
    "        with open(filename, \"rb\") as data:\n",
    "            info = np.load(data)\n",
    "            features.append(info[\"features\"])\n",
    "    else:\n",
    "        features.append([])"
   ]
  },
  {
   "cell_type": "code",
   "execution_count": null,
   "metadata": {
    "pycharm": {
     "name": "#%%\n"
    }
   },
   "outputs": [],
   "source": [
    "total_single_cells = 0\n",
    "for i in range(len(features)):\n",
    "    if len(features[i]) > 0:\n",
    "        total_single_cells += features[i].shape[0]\n",
    "\n",
    "print(\"Total images\",len(features),features[0].shape)\n",
    "print(\"Total single cells:\", total_single_cells)"
   ]
  },
  {
   "cell_type": "code",
   "execution_count": null,
   "metadata": {
    "pycharm": {
     "name": "#%%\n"
    }
   },
   "outputs": [],
   "source": [
    "feats = [i for i in range(NUM_FEATURES)]"
   ]
  },
  {
   "cell_type": "code",
   "execution_count": null,
   "metadata": {
    "pycharm": {
     "name": "#%%\n"
    }
   },
   "outputs": [],
   "source": [
    "site_level_data = []\n",
    "site_level_features = []\n",
    "for plate in tqdm(meta[\"Metadata_Plate\"].unique()):\n",
    "    m1 = meta[\"Metadata_Plate\"] == plate\n",
    "    wells = meta[m1][\"Metadata_Well\"].unique()\n",
    "    for well in wells:\n",
    "        result = meta.query(\"Metadata_Plate == '{}' and Metadata_Well == '{}'\".format(plate, well))\n",
    "        for i in result.index:\n",
    "            if len(features[i]) == 0:\n",
    "                continue\n",
    "            num_features = features[i].shape[1]\n",
    "            median_profile = np.median(features[i], axis=0)\n",
    "            pert_name = result[PERT_NAME].unique()\n",
    "            replicate = result[\"pert_name_replicate\"].unique()\n",
    "            broad_sample = result[\"broad_sample\"].unique()\n",
    "            val = result[\"val\"].unique()\n",
    "            site_level_data.append(\n",
    "                {\n",
    "                    \"Metadata_Plate\": plate,\n",
    "                    \"Metadata_Well\": well,\n",
    "                    PERT_NAME: pert_name[0],\n",
    "                    \"Replicate\": replicate[0],\n",
    "                    \"broad_sample\": broad_sample[0],\n",
    "                    \"val\": val[0]\n",
    "                }\n",
    "            )\n",
    "            site_level_features.append(median_profile)"
   ]
  },
  {
   "cell_type": "code",
   "execution_count": null,
   "metadata": {
    "pycharm": {
     "name": "#%%\n"
    }
   },
   "outputs": [],
   "source": [
    "del features\n",
    "gc.collect()"
   ]
  },
  {
   "cell_type": "code",
   "execution_count": null,
   "metadata": {
    "pycharm": {
     "name": "#%%\n"
    }
   },
   "outputs": [],
   "source": [
    "columns1 = [\"Metadata_Plate\", \"Metadata_Well\", PERT_NAME, \"Replicate\", \"broad_sample\", \"val\"]\n",
    "\n",
    "sites1 = pd.DataFrame(columns=columns1, data=site_level_data)\n",
    "sites2 = pd.DataFrame(columns=feats, data=site_level_features)\n",
    "sites = pd.concat([sites1, sites2], axis=1)"
   ]
  },
  {
   "cell_type": "code",
   "execution_count": null,
   "metadata": {
    "pycharm": {
     "name": "#%%\n"
    }
   },
   "outputs": [],
   "source": [
    "whN = profiling.WhiteningNormalizer(sites[feats][sites[PERT_NAME] == CTRL_NAME], reg_param=REG_PARAM)"
   ]
  },
  {
   "cell_type": "code",
   "execution_count": null,
   "metadata": {
    "pycharm": {
     "name": "#%%\n"
    }
   },
   "outputs": [],
   "source": [
    "sites_treatments = sites[sites[PERT_NAME] != CTRL_NAME]\n",
    "sites_treatments.reset_index(inplace = True, drop = True)\n",
    "whD = whN.normalize(sites_treatments[feats])\n",
    "sites_treatments[feats] = whD"
   ]
  },
  {
   "cell_type": "code",
   "execution_count": null,
   "metadata": {
    "pycharm": {
     "name": "#%%\n"
    }
   },
   "outputs": [],
   "source": [
    "img_results = find_first_hits(sites_treatments, feats, PERT_NAME, CTRL_NAME)"
   ]
  },
  {
   "cell_type": "code",
   "execution_count": null,
   "metadata": {
    "pycharm": {
     "name": "#%%\n"
    }
   },
   "outputs": [],
   "source": [
    "img_summary = summarize(img_results)\n",
    "img_summary = visualize(img_summary)\n",
    "img_summary.to_csv(OUTPUT_BASE_NAME + '_image_level.csv')"
   ]
  },
  {
   "cell_type": "code",
   "execution_count": null,
   "metadata": {
    "pycharm": {
     "name": "#%%\n"
    }
   },
   "outputs": [],
   "source": [
    "wells = sites.groupby([\"Metadata_Plate\", \"Metadata_Well\", PERT_NAME]).mean().reset_index()\n",
    "\n",
    "tmp = meta.groupby([\"Metadata_Plate\", \"Metadata_Well\", PERT_NAME, \"broad_sample\"])[\"DNA\"].count().reset_index()\n",
    "wells = pd.merge(wells, tmp, how=\"left\", left_on=[\"Metadata_Plate\", \"Metadata_Well\", PERT_NAME], right_on=[\"Metadata_Plate\", \"Metadata_Well\", PERT_NAME])\n",
    "\n",
    "wells = wells[columns1 + feats]"
   ]
  },
  {
   "cell_type": "code",
   "execution_count": null,
   "metadata": {
    "pycharm": {
     "name": "#%%\n"
    }
   },
   "outputs": [],
   "source": [
    "whN = profiling.WhiteningNormalizer(wells.loc[wells[PERT_NAME] == CTRL_NAME, feats], REG_PARAM)"
   ]
  },
  {
   "cell_type": "code",
   "execution_count": null,
   "metadata": {
    "pycharm": {
     "name": "#%%\n"
    }
   },
   "outputs": [],
   "source": [
    "wells_treatments = wells[wells[PERT_NAME] != CTRL_NAME]\n",
    "wells_treatments.reset_index(inplace = True, drop = True)\n",
    "whD = whN.normalize(wells_treatments[feats])\n",
    "wells_treatments[feats] = whD"
   ]
  },
  {
   "cell_type": "code",
   "execution_count": null,
   "metadata": {
    "pycharm": {
     "name": "#%%\n"
    }
   },
   "outputs": [],
   "source": [
    "well_results = find_first_hits(wells_treatments, feats, PERT_NAME, CTRL_NAME)"
   ]
  },
  {
   "cell_type": "code",
   "execution_count": null,
   "metadata": {
    "pycharm": {
     "name": "#%%\n"
    }
   },
   "outputs": [],
   "source": [
    "well_summary = summarize(well_results)\n",
    "well_summary = visualize(well_summary)\n",
    "well_summary.to_csv(OUTPUT_BASE_NAME + '_well_level.csv')"
   ]
  },
  {
   "cell_type": "code",
   "execution_count": null,
   "metadata": {
    "pycharm": {
     "name": "#%%\n"
    }
   },
   "outputs": [],
   "source": [
    "treatment_features = wells_treatments.groupby([\"pert_name\", \"broad_sample\"]).mean().reset_index()\n",
    "treatment_features = treatment_features.sort_values(\"broad_sample\").reset_index(drop=True)"
   ]
  },
  {
   "cell_type": "code",
   "execution_count": null,
   "metadata": {
    "pycharm": {
     "name": "#%%\n"
    }
   },
   "outputs": [],
   "source": [
    "# Ground truth connections\n",
    "X, Y = profiling.load_correlation_matrix(CORR_MATRIX)\n",
    "Y[\"broad_sample\"] = treatment_features.broad_sample\n",
    "print(\"Treatments with ground truth:\", np.sum(Y.broad_sample == Y.Var1))\n",
    "\n",
    "moa_matches = []\n",
    "for k,r in Y.iterrows():\n",
    "    m = Y[\"Metadata_moa.x\"] == r[\"Metadata_moa.x\"]\n",
    "    moa_matches.append(m)\n",
    "moa_matches = np.asarray(moa_matches, dtype=np.uint8)\n",
    "plt.imshow(moa_matches)"
   ]
  },
  {
   "cell_type": "code",
   "execution_count": null,
   "metadata": {
    "pycharm": {
     "name": "#%%\n"
    }
   },
   "outputs": [],
   "source": [
    "# Similarity search\n",
    "F = treatment_features.loc[treatment_features[PERT_NAME] != CTRL_NAME, feats]\n",
    "C = np.dot(F, F.T)\n",
    "Fn = np.linalg.norm(F, axis=1)\n",
    "cos = C / (Fn[:,np.newaxis] @ Fn[:,np.newaxis].T)\n",
    "ranking = np.argsort(-cos, axis=1)"
   ]
  },
  {
   "cell_type": "code",
   "execution_count": null,
   "metadata": {
    "pycharm": {
     "name": "#%%\n"
    }
   },
   "outputs": [],
   "source": [
    "# First hits evaluation\n",
    "results = []\n",
    "for h in range(cos.shape[0]):\n",
    "    hit = np.where(moa_matches[h, ranking[h]] == 1)[0]\n",
    "    if len(hit) >= 2:\n",
    "        hit = hit[1]\n",
    "    else:\n",
    "        hit = 0\n",
    "        print(h, Y.loc[h, \"Metadata_moa.x\"])\n",
    "    results.append({\"broad_sample\":treatment_features.loc[h, \"broad_sample\"], \n",
    "                    \"pert_name\":treatment_features.loc[h, \"pert_name\"],\n",
    "                    \"first_hit\": hit,\n",
    "                   })\n",
    "results = pd.DataFrame(data=results)"
   ]
  },
  {
   "cell_type": "code",
   "execution_count": null,
   "metadata": {
    "pycharm": {
     "name": "#%%\n"
    }
   },
   "outputs": [],
   "source": [
    "# Summary statistics per treatment\n",
    "results[\"top_percent\"] = (results[\"first_hit\"] / len(results))*100\n",
    "treatment_summary = visualize(results)\n",
    "treatment_summary.to_csv(OUTPUT_BASE_NAME + '_treatment_level.csv')"
   ]
  },
  {
   "cell_type": "code",
   "execution_count": null,
   "metadata": {
    "pycharm": {
     "name": "#%%\n"
    }
   },
   "outputs": [],
   "source": [
    "# Summary per MOA\n",
    "moa_results = pd.merge(results, Y, on=\"broad_sample\").groupby(\"Metadata_moa.x\")[\"first_hit\"].mean().reset_index()\n",
    "moa_results[\"top_percent\"] = (moa_results[\"first_hit\"] / len(results))*100\n",
    "moa_results = moa_results.sort_values(\"top_percent\")\n",
    "sb.barplot(data=moa_results, x=\"Metadata_moa.x\", y=\"top_percent\")\n",
    "moa_results.to_csv(OUTPUT_BASE_NAME + '_moa.csv')"
   ]
  },
  {
   "cell_type": "code",
   "execution_count": null,
   "metadata": {
    "pycharm": {
     "name": "#%%\n"
    }
   },
   "outputs": [],
   "source": []
  }
 ],
 "metadata": {
  "kernelspec": {
   "display_name": "Python 3",
   "language": "python",
   "name": "python3"
  },
  "language_info": {
   "codemirror_mode": {
    "name": "ipython",
    "version": 3
   },
   "file_extension": ".py",
   "mimetype": "text/x-python",
   "name": "python",
   "nbconvert_exporter": "python",
   "pygments_lexer": "ipython3",
   "version": "3.7.3"
  }
 },
 "nbformat": 4,
 "nbformat_minor": 4
}