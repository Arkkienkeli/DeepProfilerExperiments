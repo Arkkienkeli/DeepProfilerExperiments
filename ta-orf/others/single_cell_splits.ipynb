{
 "cells": [
  {
   "cell_type": "code",
   "execution_count": 1,
   "metadata": {},
   "outputs": [],
   "source": [
    "import numpy as np\n",
    "import pandas as pd\n",
    "import matplotlib.pyplot as plt\n",
    "import seaborn as sb\n",
    "import tqdm"
   ]
  },
  {
   "cell_type": "markdown",
   "metadata": {},
   "source": [
    "# Organize metadata"
   ]
  },
  {
   "cell_type": "code",
   "execution_count": 2,
   "metadata": {},
   "outputs": [],
   "source": [
    "meta = pd.read_csv(\"/raid/data/cellpainting/TAORF/inputs/metadata/index.csv\")"
   ]
  },
  {
   "cell_type": "code",
   "execution_count": 3,
   "metadata": {},
   "outputs": [],
   "source": [
    "ground_truth = pd.read_csv(\"/raid/data/cellpainting/TAORF/downstream/TAORF_MOA_MATCHES.csv\")\n",
    "ground_truth[\"Evaluated\"] = True\n",
    "meta = pd.merge(meta, ground_truth[[\"Var1\", \"Evaluated\"]], left_on=[\"broad_sample\"], right_on=\"Var1\", how=\"left\")"
   ]
  },
  {
   "cell_type": "code",
   "execution_count": 4,
   "metadata": {},
   "outputs": [],
   "source": [
    "meta = meta.drop(\"pert_name_replicate\", axis=1)\n",
    "meta = meta.drop(\"val\", axis=1)\n",
    "meta = meta.drop(\"Var1\", axis=1)\n",
    "\n",
    "# Assignment of plates to training and validation\n",
    "meta.loc[meta.Metadata_Plate == 41744, \"Training_Status\"] = \"Training\"\n",
    "meta.loc[meta.Metadata_Plate == 41754, \"Training_Status\"] = \"Training\"\n",
    "meta.loc[meta.Metadata_Plate == 41755, \"Training_Status\"] = \"Training\"\n",
    "meta.loc[meta.Metadata_Plate == 41756, \"Training_Status\"] = \"Validation\"\n",
    "meta.loc[meta.Metadata_Plate == 41757, \"Training_Status\"] = \"Validation\""
   ]
  },
  {
   "cell_type": "code",
   "execution_count": 5,
   "metadata": {},
   "outputs": [
    {
     "data": {
      "text/plain": [
       "311"
      ]
     },
     "execution_count": 5,
     "metadata": {},
     "output_type": "execute_result"
    }
   ],
   "source": [
    "# Perturbations that will not be used for training\n",
    "blocklist = list(meta[meta.pert_name.str.contains(\"mismatch\")].groupby(\"pert_name\").count().reset_index().pert_name)\n",
    "blocklist += list(meta[meta.pert_name.str.contains(\"trunc\")].groupby(\"pert_name\").count().reset_index().pert_name)\n",
    "blocklist += list(meta[meta.pert_name.str.contains(\"CTRL\")].groupby(\"pert_name\").count().reset_index().pert_name)\n",
    "\n",
    "# Unique number of perturbations\n",
    "len(meta[~meta.pert_name.isin(blocklist)].pert_name.unique())"
   ]
  },
  {
   "cell_type": "code",
   "execution_count": 6,
   "metadata": {},
   "outputs": [
    {
     "data": {
      "text/html": [
       "<div>\n",
       "<style scoped>\n",
       "    .dataframe tbody tr th:only-of-type {\n",
       "        vertical-align: middle;\n",
       "    }\n",
       "\n",
       "    .dataframe tbody tr th {\n",
       "        vertical-align: top;\n",
       "    }\n",
       "\n",
       "    .dataframe thead th {\n",
       "        text-align: right;\n",
       "    }\n",
       "</style>\n",
       "<table border=\"1\" class=\"dataframe\">\n",
       "  <thead>\n",
       "    <tr style=\"text-align: right;\">\n",
       "      <th></th>\n",
       "      <th></th>\n",
       "      <th>Metadata_Well</th>\n",
       "      <th>Metadata_Site</th>\n",
       "      <th>Assay_Plate_Barcode</th>\n",
       "      <th>Plate_Map_Name</th>\n",
       "      <th>DNA</th>\n",
       "      <th>RNA</th>\n",
       "      <th>ER</th>\n",
       "      <th>AGP</th>\n",
       "      <th>Mito</th>\n",
       "      <th>gene_name</th>\n",
       "      <th>pert_name</th>\n",
       "      <th>broad_sample</th>\n",
       "      <th>cell_line</th>\n",
       "      <th>ASSAY_WELL_ROLE</th>\n",
       "      <th>GeneID</th>\n",
       "      <th>plate_map_name</th>\n",
       "      <th>Evaluated</th>\n",
       "    </tr>\n",
       "    <tr>\n",
       "      <th>Metadata_Plate</th>\n",
       "      <th>Training_Status</th>\n",
       "      <th></th>\n",
       "      <th></th>\n",
       "      <th></th>\n",
       "      <th></th>\n",
       "      <th></th>\n",
       "      <th></th>\n",
       "      <th></th>\n",
       "      <th></th>\n",
       "      <th></th>\n",
       "      <th></th>\n",
       "      <th></th>\n",
       "      <th></th>\n",
       "      <th></th>\n",
       "      <th></th>\n",
       "      <th></th>\n",
       "      <th></th>\n",
       "      <th></th>\n",
       "    </tr>\n",
       "  </thead>\n",
       "  <tbody>\n",
       "    <tr>\n",
       "      <th rowspan=\"2\" valign=\"top\">41744</th>\n",
       "      <th>Training</th>\n",
       "      <td>3089</td>\n",
       "      <td>3089</td>\n",
       "      <td>3089</td>\n",
       "      <td>3089</td>\n",
       "      <td>3089</td>\n",
       "      <td>3089</td>\n",
       "      <td>3089</td>\n",
       "      <td>3089</td>\n",
       "      <td>3089</td>\n",
       "      <td>3089</td>\n",
       "      <td>3089</td>\n",
       "      <td>2774</td>\n",
       "      <td>3089</td>\n",
       "      <td>3089</td>\n",
       "      <td>2774</td>\n",
       "      <td>3089</td>\n",
       "      <td>1833</td>\n",
       "    </tr>\n",
       "    <tr>\n",
       "      <th>Unused</th>\n",
       "      <td>342</td>\n",
       "      <td>342</td>\n",
       "      <td>342</td>\n",
       "      <td>342</td>\n",
       "      <td>342</td>\n",
       "      <td>342</td>\n",
       "      <td>342</td>\n",
       "      <td>342</td>\n",
       "      <td>342</td>\n",
       "      <td>342</td>\n",
       "      <td>342</td>\n",
       "      <td>126</td>\n",
       "      <td>342</td>\n",
       "      <td>342</td>\n",
       "      <td>126</td>\n",
       "      <td>342</td>\n",
       "      <td>0</td>\n",
       "    </tr>\n",
       "    <tr>\n",
       "      <th rowspan=\"2\" valign=\"top\">41754</th>\n",
       "      <th>Training</th>\n",
       "      <td>3102</td>\n",
       "      <td>3102</td>\n",
       "      <td>3102</td>\n",
       "      <td>3102</td>\n",
       "      <td>3102</td>\n",
       "      <td>3102</td>\n",
       "      <td>3102</td>\n",
       "      <td>3102</td>\n",
       "      <td>3102</td>\n",
       "      <td>3102</td>\n",
       "      <td>3102</td>\n",
       "      <td>2787</td>\n",
       "      <td>3102</td>\n",
       "      <td>3102</td>\n",
       "      <td>2787</td>\n",
       "      <td>3102</td>\n",
       "      <td>1849</td>\n",
       "    </tr>\n",
       "    <tr>\n",
       "      <th>Unused</th>\n",
       "      <td>341</td>\n",
       "      <td>341</td>\n",
       "      <td>341</td>\n",
       "      <td>341</td>\n",
       "      <td>341</td>\n",
       "      <td>341</td>\n",
       "      <td>341</td>\n",
       "      <td>341</td>\n",
       "      <td>341</td>\n",
       "      <td>341</td>\n",
       "      <td>341</td>\n",
       "      <td>126</td>\n",
       "      <td>341</td>\n",
       "      <td>341</td>\n",
       "      <td>126</td>\n",
       "      <td>341</td>\n",
       "      <td>0</td>\n",
       "    </tr>\n",
       "    <tr>\n",
       "      <th rowspan=\"2\" valign=\"top\">41755</th>\n",
       "      <th>Training</th>\n",
       "      <td>3113</td>\n",
       "      <td>3113</td>\n",
       "      <td>3113</td>\n",
       "      <td>3113</td>\n",
       "      <td>3113</td>\n",
       "      <td>3113</td>\n",
       "      <td>3113</td>\n",
       "      <td>3113</td>\n",
       "      <td>3113</td>\n",
       "      <td>3113</td>\n",
       "      <td>3113</td>\n",
       "      <td>2798</td>\n",
       "      <td>3113</td>\n",
       "      <td>3113</td>\n",
       "      <td>2798</td>\n",
       "      <td>3113</td>\n",
       "      <td>1853</td>\n",
       "    </tr>\n",
       "    <tr>\n",
       "      <th>Unused</th>\n",
       "      <td>342</td>\n",
       "      <td>342</td>\n",
       "      <td>342</td>\n",
       "      <td>342</td>\n",
       "      <td>342</td>\n",
       "      <td>342</td>\n",
       "      <td>342</td>\n",
       "      <td>342</td>\n",
       "      <td>342</td>\n",
       "      <td>342</td>\n",
       "      <td>342</td>\n",
       "      <td>126</td>\n",
       "      <td>342</td>\n",
       "      <td>342</td>\n",
       "      <td>126</td>\n",
       "      <td>342</td>\n",
       "      <td>0</td>\n",
       "    </tr>\n",
       "    <tr>\n",
       "      <th rowspan=\"2\" valign=\"top\">41756</th>\n",
       "      <th>Unused</th>\n",
       "      <td>342</td>\n",
       "      <td>342</td>\n",
       "      <td>342</td>\n",
       "      <td>342</td>\n",
       "      <td>342</td>\n",
       "      <td>342</td>\n",
       "      <td>342</td>\n",
       "      <td>342</td>\n",
       "      <td>342</td>\n",
       "      <td>342</td>\n",
       "      <td>342</td>\n",
       "      <td>126</td>\n",
       "      <td>342</td>\n",
       "      <td>342</td>\n",
       "      <td>126</td>\n",
       "      <td>342</td>\n",
       "      <td>0</td>\n",
       "    </tr>\n",
       "    <tr>\n",
       "      <th>Validation</th>\n",
       "      <td>3110</td>\n",
       "      <td>3110</td>\n",
       "      <td>3110</td>\n",
       "      <td>3110</td>\n",
       "      <td>3110</td>\n",
       "      <td>3110</td>\n",
       "      <td>3110</td>\n",
       "      <td>3110</td>\n",
       "      <td>3110</td>\n",
       "      <td>3110</td>\n",
       "      <td>3110</td>\n",
       "      <td>2795</td>\n",
       "      <td>3110</td>\n",
       "      <td>3110</td>\n",
       "      <td>2795</td>\n",
       "      <td>3110</td>\n",
       "      <td>1854</td>\n",
       "    </tr>\n",
       "    <tr>\n",
       "      <th rowspan=\"2\" valign=\"top\">41757</th>\n",
       "      <th>Unused</th>\n",
       "      <td>341</td>\n",
       "      <td>341</td>\n",
       "      <td>341</td>\n",
       "      <td>341</td>\n",
       "      <td>341</td>\n",
       "      <td>341</td>\n",
       "      <td>341</td>\n",
       "      <td>341</td>\n",
       "      <td>341</td>\n",
       "      <td>341</td>\n",
       "      <td>341</td>\n",
       "      <td>125</td>\n",
       "      <td>341</td>\n",
       "      <td>341</td>\n",
       "      <td>125</td>\n",
       "      <td>341</td>\n",
       "      <td>0</td>\n",
       "    </tr>\n",
       "    <tr>\n",
       "      <th>Validation</th>\n",
       "      <td>3105</td>\n",
       "      <td>3105</td>\n",
       "      <td>3105</td>\n",
       "      <td>3105</td>\n",
       "      <td>3105</td>\n",
       "      <td>3105</td>\n",
       "      <td>3105</td>\n",
       "      <td>3105</td>\n",
       "      <td>3105</td>\n",
       "      <td>3105</td>\n",
       "      <td>3105</td>\n",
       "      <td>2791</td>\n",
       "      <td>3105</td>\n",
       "      <td>3105</td>\n",
       "      <td>2791</td>\n",
       "      <td>3105</td>\n",
       "      <td>1853</td>\n",
       "    </tr>\n",
       "  </tbody>\n",
       "</table>\n",
       "</div>"
      ],
      "text/plain": [
       "                                Metadata_Well  Metadata_Site  \\\n",
       "Metadata_Plate Training_Status                                 \n",
       "41744          Training                  3089           3089   \n",
       "               Unused                     342            342   \n",
       "41754          Training                  3102           3102   \n",
       "               Unused                     341            341   \n",
       "41755          Training                  3113           3113   \n",
       "               Unused                     342            342   \n",
       "41756          Unused                     342            342   \n",
       "               Validation                3110           3110   \n",
       "41757          Unused                     341            341   \n",
       "               Validation                3105           3105   \n",
       "\n",
       "                                Assay_Plate_Barcode  Plate_Map_Name   DNA  \\\n",
       "Metadata_Plate Training_Status                                              \n",
       "41744          Training                        3089            3089  3089   \n",
       "               Unused                           342             342   342   \n",
       "41754          Training                        3102            3102  3102   \n",
       "               Unused                           341             341   341   \n",
       "41755          Training                        3113            3113  3113   \n",
       "               Unused                           342             342   342   \n",
       "41756          Unused                           342             342   342   \n",
       "               Validation                      3110            3110  3110   \n",
       "41757          Unused                           341             341   341   \n",
       "               Validation                      3105            3105  3105   \n",
       "\n",
       "                                 RNA    ER   AGP  Mito  gene_name  pert_name  \\\n",
       "Metadata_Plate Training_Status                                                 \n",
       "41744          Training         3089  3089  3089  3089       3089       3089   \n",
       "               Unused            342   342   342   342        342        342   \n",
       "41754          Training         3102  3102  3102  3102       3102       3102   \n",
       "               Unused            341   341   341   341        341        341   \n",
       "41755          Training         3113  3113  3113  3113       3113       3113   \n",
       "               Unused            342   342   342   342        342        342   \n",
       "41756          Unused            342   342   342   342        342        342   \n",
       "               Validation       3110  3110  3110  3110       3110       3110   \n",
       "41757          Unused            341   341   341   341        341        341   \n",
       "               Validation       3105  3105  3105  3105       3105       3105   \n",
       "\n",
       "                                broad_sample  cell_line  ASSAY_WELL_ROLE  \\\n",
       "Metadata_Plate Training_Status                                             \n",
       "41744          Training                 2774       3089             3089   \n",
       "               Unused                    126        342              342   \n",
       "41754          Training                 2787       3102             3102   \n",
       "               Unused                    126        341              341   \n",
       "41755          Training                 2798       3113             3113   \n",
       "               Unused                    126        342              342   \n",
       "41756          Unused                    126        342              342   \n",
       "               Validation               2795       3110             3110   \n",
       "41757          Unused                    125        341              341   \n",
       "               Validation               2791       3105             3105   \n",
       "\n",
       "                                GeneID  plate_map_name  Evaluated  \n",
       "Metadata_Plate Training_Status                                     \n",
       "41744          Training           2774            3089       1833  \n",
       "               Unused              126             342          0  \n",
       "41754          Training           2787            3102       1849  \n",
       "               Unused              126             341          0  \n",
       "41755          Training           2798            3113       1853  \n",
       "               Unused              126             342          0  \n",
       "41756          Unused              126             342          0  \n",
       "               Validation         2795            3110       1854  \n",
       "41757          Unused              125             341          0  \n",
       "               Validation         2791            3105       1853  "
      ]
     },
     "execution_count": 6,
     "metadata": {},
     "output_type": "execute_result"
    }
   ],
   "source": [
    "meta.loc[meta.pert_name.isin(blocklist), \"Training_Status\"] = \"Unused\"\n",
    "meta.groupby([\"Metadata_Plate\", \"Training_Status\"]).count()"
   ]
  },
  {
   "cell_type": "markdown",
   "metadata": {},
   "source": [
    "# Label single cells"
   ]
  },
  {
   "cell_type": "code",
   "execution_count": 7,
   "metadata": {},
   "outputs": [],
   "source": [
    "sc_idx = pd.read_csv(\"/raid/data/cellpainting/TAORF/outputs/all_single_cells/sc-metadata.csv\")"
   ]
  },
  {
   "cell_type": "code",
   "execution_count": 8,
   "metadata": {},
   "outputs": [
    {
     "data": {
      "text/plain": [
       "<matplotlib.axes._subplots.AxesSubplot at 0x7f9150cf2fd0>"
      ]
     },
     "execution_count": 8,
     "metadata": {},
     "output_type": "execute_result"
    },
    {
     "data": {
      "image/png": "[encoded data removed]",
      "text/plain": [
       "<Figure size 432x288 with 1 Axes>"
      ]
     },
     "metadata": {
      "needs_background": "light"
     },
     "output_type": "display_data"
    }
   ],
   "source": [
    "# Distribution of classes before sampling\n",
    "sc_counts = sc_idx.groupby(\"Class_Name\").count().reset_index()\n",
    "sc_counts = sc_counts.sort_values(\"Target\", ascending=False)\n",
    "sb.barplot(data=sc_counts[sc_counts[\"Class_Name\"] != \"EMPTY\"], x=\"Class_Name\", y=\"Target\")"
   ]
  },
  {
   "cell_type": "code",
   "execution_count": 9,
   "metadata": {},
   "outputs": [],
   "source": [
    "sc_idx[\"Metadata_Plate\"] = sc_idx.Key.str.split(\"/\", expand=True)[0].astype(int)\n",
    "sc_idx[\"Metadata_Well\"] = sc_idx.Key.str.split(\"/\", expand=True)[1]\n",
    "sc_idx[\"Metadata_Site\"] = sc_idx.Metadata_Well.str.split(\"-\", expand=True)[1].astype(int)\n",
    "sc_idx[\"Metadata_Well\"] = sc_idx.Metadata_Well.str.split(\"-\", expand=True)[0]"
   ]
  },
  {
   "cell_type": "code",
   "execution_count": 10,
   "metadata": {},
   "outputs": [],
   "source": [
    "sc_expanded = pd.merge(sc_idx, meta, on=[\"Metadata_Plate\", \"Metadata_Well\", \"Metadata_Site\"], how=\"left\")"
   ]
  },
  {
   "cell_type": "code",
   "execution_count": 11,
   "metadata": {},
   "outputs": [],
   "source": [
    "# Sampling function\n",
    "\n",
    "def label_single_cells(sc_expanded, gene_names, status, budget, new_label):\n",
    "    for gene in tqdm.tqdm(gene_names):\n",
    "        f1 = sc_expanded.gene_name == gene\n",
    "        f2 = sc_expanded.Training_Status == status\n",
    "        sites = sc_expanded[f1 & f2].groupby([\"pert_name\", \"Metadata_Plate\", \"Metadata_Well\", \"Metadata_Site\"]).count().reset_index()\n",
    "        available_cells = sites[\"Key\"].sum()\n",
    "\n",
    "        if available_cells > budget:\n",
    "            num_samples = int(np.ceil(budget / len(sites)))\n",
    "            for k,r in sites.iterrows():\n",
    "                sample = sc_expanded.query(\n",
    "                    f\"pert_name == '{r.pert_name}' & Metadata_Plate == '{r.Metadata_Plate}' & Metadata_Well == '{r.Metadata_Well}' & Metadata_Site == '{r.Metadata_Site}'\"\n",
    "                )\n",
    "                if len(sample) >= num_samples:\n",
    "                    sample = sample.sample(n=num_samples)\n",
    "                sc_expanded.loc[sample.index, \"Training_Status\"] = new_label\n",
    "        else:\n",
    "            sc_expanded.loc[f1 & f2, \"Training_Status\"] = new_label\n",
    "\n",
    "        f3 = sc_expanded.Training_Status == new_label"
   ]
  },
  {
   "cell_type": "code",
   "execution_count": 12,
   "metadata": {},
   "outputs": [
    {
     "name": "stderr",
     "output_type": "stream",
     "text": [
      "100%|██████████| 148/148 [11:42<00:00,  4.74s/it]\n",
      "100%|██████████| 1/1 [01:32<00:00, 92.25s/it]\n"
     ]
    }
   ],
   "source": [
    "# Sampling single cells for training\n",
    "gene_names = sc_expanded[sc_expanded.Evaluated == True].gene_name.unique()\n",
    "label_single_cells(sc_expanded, gene_names, \"Training\", 1100, \"SingleCellTraining\")\n",
    "label_single_cells(sc_expanded, [\"EMPTY\"], \"Training\", 1100, \"SingleCellTraining\")"
   ]
  },
  {
   "cell_type": "code",
   "execution_count": 13,
   "metadata": {},
   "outputs": [
    {
     "data": {
      "text/plain": [
       "<matplotlib.axes._subplots.AxesSubplot at 0x7f9132280e48>"
      ]
     },
     "execution_count": 13,
     "metadata": {},
     "output_type": "execute_result"
    },
    {
     "data": {
      "image/png": "[encoded data removed]",
      "text/plain": [
       "<Figure size 432x288 with 1 Axes>"
      ]
     },
     "metadata": {
      "needs_background": "light"
     },
     "output_type": "display_data"
    }
   ],
   "source": [
    "# Distribution of classes in the training set\n",
    "sc_counts = sc_expanded[sc_expanded.Training_Status == \"SingleCellTraining\"].groupby(\"Class_Name\").count().reset_index()\n",
    "sc_counts = sc_counts.sort_values(\"Target\", ascending=False)\n",
    "sb.barplot(data=sc_counts[sc_counts[\"Class_Name\"] != \"EMPTY\"], x=\"Class_Name\", y=\"Target\")"
   ]
  },
  {
   "cell_type": "code",
   "execution_count": 14,
   "metadata": {},
   "outputs": [
    {
     "name": "stdout",
     "output_type": "stream",
     "text": [
      "Training cells: 152084\n"
     ]
    }
   ],
   "source": [
    "print(\"Training cells:\", len(sc_expanded[sc_expanded.Training_Status == \"SingleCellTraining\"]))"
   ]
  },
  {
   "cell_type": "code",
   "execution_count": 15,
   "metadata": {},
   "outputs": [
    {
     "name": "stderr",
     "output_type": "stream",
     "text": [
      "100%|██████████| 148/148 [08:05<00:00,  3.28s/it]\n",
      "100%|██████████| 1/1 [01:03<00:00, 63.22s/it]\n"
     ]
    }
   ],
   "source": [
    "# Sampling single cells for validation\n",
    "label_single_cells(sc_expanded, gene_names, \"Validation\", 150, \"SingleCellValidation\")\n",
    "label_single_cells(sc_expanded, [\"EMPTY\"], \"Validation\", 150, \"SingleCellValidation\")"
   ]
  },
  {
   "cell_type": "code",
   "execution_count": 16,
   "metadata": {},
   "outputs": [
    {
     "data": {
      "text/plain": [
       "<matplotlib.axes._subplots.AxesSubplot at 0x7f91324c1b38>"
      ]
     },
     "execution_count": 16,
     "metadata": {},
     "output_type": "execute_result"
    },
    {
     "data": {
      "image/png": "[encoded data removed]",
      "text/plain": [
       "<Figure size 432x288 with 1 Axes>"
      ]
     },
     "metadata": {
      "needs_background": "light"
     },
     "output_type": "display_data"
    }
   ],
   "source": [
    "# Distribution of classes in the validation set\n",
    "sc_counts = sc_expanded[sc_expanded.Training_Status == \"SingleCellValidation\"].groupby(\"Class_Name\").count().reset_index()\n",
    "sc_counts = sc_counts.sort_values(\"Target\", ascending=False)\n",
    "sb.barplot(data=sc_counts[sc_counts[\"Class_Name\"] != \"EMPTY\"], x=\"Class_Name\", y=\"Target\")"
   ]
  },
  {
   "cell_type": "code",
   "execution_count": 17,
   "metadata": {},
   "outputs": [
    {
     "name": "stdout",
     "output_type": "stream",
     "text": [
      "Training cells: 20800\n"
     ]
    }
   ],
   "source": [
    "print(\"Validation cells:\", len(sc_expanded[sc_expanded.Training_Status == \"SingleCellValidation\"]))"
   ]
  },
  {
   "cell_type": "code",
   "execution_count": 19,
   "metadata": {},
   "outputs": [],
   "source": [
    "# Save the resulting file to disk\n",
    "sc_expanded.to_csv(\"/raid/data/cellpainting/TAORF/outputs/expanded_sc_metadata.csv\", index=False)"
   ]
  },
  {
   "cell_type": "code",
   "execution_count": null,
   "metadata": {},
   "outputs": [],
   "source": []
  }
 ],
 "metadata": {
  "kernelspec": {
   "display_name": "Python 3",
   "language": "python",
   "name": "python3"
  },
  "language_info": {
   "codemirror_mode": {
    "name": "ipython",
    "version": 3
   },
   "file_extension": ".py",
   "mimetype": "text/x-python",
   "name": "python",
   "nbconvert_exporter": "python",
   "pygments_lexer": "ipython3",
   "version": "3.7.3"
  }
 },
 "nbformat": 4,
 "nbformat_minor": 4
}
