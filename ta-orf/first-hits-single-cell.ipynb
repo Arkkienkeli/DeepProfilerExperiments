{
 "cells": [
  {
   "cell_type": "code",
   "execution_count": null,
   "metadata": {
    "pycharm": {
     "name": "#%%\n"
    }
   },
   "outputs": [],
   "source": [
    "import pandas as pd\n",
    "import numpy as np\n",
    "import seaborn as sb\n",
    "import os\n",
    "import sys\n",
    "import time\n",
    "import gc\n",
    "\n",
    "from tqdm import tqdm\n",
    "import matplotlib.pyplot as plt\n",
    "\n",
    "sys.path.append(\"../profiling/\")\n",
    "import profiling"
   ]
  },
  {
   "cell_type": "code",
   "execution_count": null,
   "metadata": {
    "pycharm": {
     "name": "#%%\n"
    }
   },
   "outputs": [],
   "source": [
    "PROJECT_ROOT = \"/raid/data/cellpainting/TAORF/\"\n",
    "EXP = \"cp_dataset\"\n",
    "NUM_FEATURES = 672\n",
    "\n",
    "OUTPUT_BASE_NAME = 'efn128_cp_dataset'\n",
    "\n",
    "PERT_NAME = \"pert_name\"\n",
    "CTRL_NAME = \"EMPTY_\"\n",
    "\n",
    "REG_PARAM = 1e-2"
   ]
  },
  {
   "cell_type": "code",
   "execution_count": null,
   "metadata": {
    "pycharm": {
     "name": "#%%\n"
    }
   },
   "outputs": [],
   "source": [
    "def find_first_hits(features, feats, pert_name, control):\n",
    "    results = []\n",
    "\n",
    "    gen = features[features[pert_name] != control].groupby([\"Metadata_Plate\", \"Metadata_Well\", pert_name])[\"val\"].count().reset_index().iterrows()\n",
    "    for k, r in tqdm(gen):\n",
    "        # Select samples in a well\n",
    "        s = time.time()\n",
    "        well = features.query(f\"Metadata_Plate == {r.Metadata_Plate} & Metadata_Well == '{r.Metadata_Well}'\").index\n",
    "        A = np.asarray(features.loc[well,feats])\n",
    "\n",
    "        # Get cells in other wells\n",
    "        others = features.query(f\"Metadata_Plate != {r.Metadata_Plate} | Metadata_Well != '{r.Metadata_Well}'\").index\n",
    "        B = np.asarray(features.loc[others,feats])\n",
    "\n",
    "        # Compute cosine similarity\n",
    "        C = np.dot(A, B.T)\n",
    "        An = np.linalg.norm(A, axis=1)\n",
    "        Bn = np.linalg.norm(B, axis=1)\n",
    "        cos = C / (An[:,np.newaxis] @ Bn[:,np.newaxis].T)\n",
    "\n",
    "        # Rank cells in other wells\n",
    "        ranking = np.argsort(-cos, axis=1)\n",
    "\n",
    "        # Find first hits\n",
    "        H = np.asarray(features.loc[others, pert_name]  == r[pert_name], dtype=np.uint8)\n",
    "        for h in range(len(well)):\n",
    "            hit = np.where(H[ranking[h]] == 1)[0][0]\n",
    "            results.append({\"Metadata_Plate\":r.Metadata_Plate, \n",
    "                            \"Metadata_Well\":r.Metadata_Well, \n",
    "                            \"pert_name\":r.pert_name,\n",
    "                            \"first_hit\": hit,\n",
    "                           })\n",
    "    return pd.DataFrame(data=results)"
   ]
  },
  {
   "cell_type": "code",
   "execution_count": null,
   "metadata": {
    "pycharm": {
     "name": "#%%\n"
    }
   },
   "outputs": [],
   "source": [
    "def summarize(results):\n",
    "    summary = results.groupby([PERT_NAME])[\"first_hit\"].mean().reset_index()\n",
    "    summary[\"std\"] = results.groupby([PERT_NAME])[\"first_hit\"].std().reset_index()[\"first_hit\"]\n",
    "    summary[\"top_percent\"] = (summary[\"first_hit\"] / len(results))*100\n",
    "    summary[\"percent_group\"] = np.ceil(summary[\"top_percent\"])\n",
    "    summary[\"coef_var\"] = summary[\"std\"] / summary[\"first_hit\"]\n",
    "    summary[\"signal_noise\"] = summary[\"first_hit\"] / summary[\"std\"]\n",
    "    return summary"
   ]
  },
  {
   "cell_type": "code",
   "execution_count": null,
   "metadata": {
    "pycharm": {
     "name": "#%%\n"
    }
   },
   "outputs": [],
   "source": [
    "def visualize(summary):\n",
    "    plt.figure(figsize=(10,5))\n",
    "    summary = summary.sort_values(\"first_hit\",na_position='last')\n",
    "    sb.barplot(data=summary, x=PERT_NAME, y=\"top_percent\")\n",
    "    print(\"Treatments with hits in the top 1%:\", summary[summary[\"top_percent\"] <= 1].shape[0])\n",
    "    plt.show()\n",
    "    return summary"
   ]
  },
  {
   "cell_type": "code",
   "execution_count": null,
   "metadata": {
    "pycharm": {
     "name": "#%%\n"
    }
   },
   "outputs": [],
   "source": [
    "# Load metadata\n",
    "metadata = pd.read_csv(os.path.join(PROJECT_ROOT, \"inputs/metadata/index_taorf_minus2wells.csv\"))\n",
    "Y = pd.read_csv(\"../data/TAORF_MOA_MATCHES.csv\")\n",
    "profiles = pd.merge(metadata, Y, left_on=\"broad_sample\", right_on=\"Var1\")\n",
    "meta = pd.concat((profiles, metadata[metadata[PERT_NAME] == CTRL_NAME]), axis=0).reset_index()"
   ]
  },
  {
   "cell_type": "code",
   "execution_count": null,
   "metadata": {
    "pycharm": {
     "name": "#%%\n"
    }
   },
   "outputs": [],
   "source": [
    "features = []\n",
    "for i in tqdm(meta.index):\n",
    "    filename = PROJECT_ROOT + \"outputs/\" + EXP + \"/features/{}/{}/{}.npz\"\n",
    "    filename = filename.format(\n",
    "        meta.loc[i, \"Metadata_Plate\"], \n",
    "        meta.loc[i, \"Metadata_Well\"], \n",
    "        meta.loc[i, \"Metadata_Site\"],\n",
    "    )\n",
    "    if os.path.isfile(filename):\n",
    "        with open(filename, \"rb\") as data:\n",
    "            info = np.load(data)\n",
    "            features.append(info[\"features\"])\n",
    "    else:\n",
    "        features.append([])"
   ]
  },
  {
   "cell_type": "code",
   "execution_count": null,
   "metadata": {
    "pycharm": {
     "name": "#%%\n"
    }
   },
   "outputs": [],
   "source": [
    "total_single_cells = 0\n",
    "for i in range(len(features)):\n",
    "    if len(features[i]) > 0:\n",
    "        total_single_cells += features[i].shape[0]\n",
    "\n",
    "print(\"Total images\",len(features),features[0].shape)\n",
    "print(\"Total single cells:\", total_single_cells)"
   ]
  },
  {
   "cell_type": "code",
   "execution_count": null,
   "metadata": {
    "pycharm": {
     "name": "#%%\n"
    }
   },
   "outputs": [],
   "source": [
    "cols = [\"Metadata_Plate\",\"Metadata_Well\",\"Metadata_Site\",\"pert_name\",\"broad_sample\",\"pert_name_replicate\",\"val\"]\n",
    "sc_features = np.zeros((total_single_cells, features[0].shape[1]))\n",
    "sc_meta_idx = []\n",
    "k = 0\n",
    "for i in tqdm(range(len(features))):\n",
    "    cells = features[i].shape[0]\n",
    "    sc_features[k:k+cells,:] = features[i]\n",
    "    sc_meta_idx += [i]*cells\n",
    "    k += cells\n",
    "\n",
    "sc_meta = pd.merge(pd.DataFrame(sc_meta_idx, columns=[\"ID\"]), meta[cols], left_on=\"ID\", right_index=True)"
   ]
  },
  {
   "cell_type": "code",
   "execution_count": null,
   "metadata": {
    "pycharm": {
     "name": "#%%\n"
    }
   },
   "outputs": [],
   "source": [
    "del features\n",
    "gc.collect()"
   ]
  },
  {
   "cell_type": "code",
   "execution_count": null,
   "metadata": {
    "pycharm": {
     "name": "#%%\n"
    }
   },
   "outputs": [],
   "source": [
    "sc_controls = sc_meta[sc_meta[PERT_NAME] == CTRL_NAME]\n",
    "sc_treatments = sc_meta[sc_meta[PERT_NAME] != CTRL_NAME]"
   ]
  },
  {
   "cell_type": "code",
   "execution_count": null,
   "metadata": {
    "pycharm": {
     "name": "#%%\n"
    }
   },
   "outputs": [],
   "source": [
    "sc_control_features = pd.merge(sc_controls, pd.DataFrame(data=sc_features), how=\"left\", left_index=True, right_index=True)"
   ]
  },
  {
   "cell_type": "code",
   "execution_count": null,
   "metadata": {
    "pycharm": {
     "name": "#%%\n"
    }
   },
   "outputs": [],
   "source": [
    "feats = [i for i in range(NUM_FEATURES)]"
   ]
  },
  {
   "cell_type": "code",
   "execution_count": null,
   "metadata": {
    "pycharm": {
     "name": "#%%\n"
    }
   },
   "outputs": [],
   "source": [
    "for i in range(10):\n",
    "    sc_sample = []\n",
    "    gen = sc_treatments.groupby([\"Metadata_Plate\", \"Metadata_Well\", \"pert_name\"])[\"val\"].count().reset_index().iterrows()\n",
    "    for k,r in tqdm(gen):\n",
    "        sc_sample.append(sc_treatments.query(f\"Metadata_Plate == {r.Metadata_Plate} & Metadata_Well == '{r.Metadata_Well}'\").sample(10))\n",
    "    sc_sample = pd.concat(sc_sample)\n",
    "    whN = profiling.WhiteningNormalizer(sc_control_features[feats], reg_param=REG_PARAM)\n",
    "    sc_sample_features = pd.merge(sc_sample, pd.DataFrame(data=sc_features), how=\"left\", left_index=True, right_index=True)\n",
    "    whD = whN.normalize(sc_sample_features[feats])\n",
    "    sc_sample_features[feats] = whD\n",
    "    sc_results = find_first_hits(sc_sample_features, feats, PERT_NAME, CTRL_NAME)\n",
    "    sc_summary = summarize(sc_results)\n",
    "    sc_summary = visualize(sc_summary)\n",
    "    sc_summary.to_csv(OUTPUT_BASE_NAME + '_single_cell_level_sample_{}.csv'.format(i))"
   ]
  },
  {
   "cell_type": "code",
   "execution_count": null,
   "metadata": {
    "pycharm": {
     "name": "#%%\n"
    }
   },
   "outputs": [],
   "source": []
  }
 ],
 "metadata": {
  "kernelspec": {
   "display_name": "Python 3",
   "language": "python",
   "name": "python3"
  },
  "language_info": {
   "codemirror_mode": {
    "name": "ipython",
    "version": 3
   },
   "file_extension": ".py",
   "mimetype": "text/x-python",
   "name": "python",
   "nbconvert_exporter": "python",
   "pygments_lexer": "ipython3",
   "version": "3.7.3"
  }
 },
 "nbformat": 4,
 "nbformat_minor": 4
}