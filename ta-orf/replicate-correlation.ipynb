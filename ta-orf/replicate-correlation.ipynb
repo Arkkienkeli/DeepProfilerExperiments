{
 "cells": [
  {
   "cell_type": "code",
   "execution_count": 1,
   "metadata": {},
   "outputs": [],
   "source": [
    "%matplotlib inline"
   ]
  },
  {
   "cell_type": "code",
   "execution_count": 2,
   "metadata": {},
   "outputs": [],
   "source": [
    "import pandas as pd\n",
    "import numpy as np\n",
    "import os\n",
    "from tqdm import tqdm\n",
    "import matplotlib.pyplot as plt\n",
    "import seaborn as sb"
   ]
  },
  {
   "cell_type": "code",
   "execution_count": 3,
   "metadata": {},
   "outputs": [],
   "source": [
    "PROJECT_ROOT = \"/raid/data/cellpainting/TAORF/\"\n",
    "EXP = \"inc_nikita\"\n",
    "num_features = 7680"
   ]
  },
  {
   "cell_type": "code",
   "execution_count": 4,
   "metadata": {},
   "outputs": [],
   "source": [
    "meta = pd.read_csv(os.path.join(PROJECT_ROOT, \"outputs/compressed/metadata/compressed.csv\"))"
   ]
  },
  {
   "cell_type": "code",
   "execution_count": 5,
   "metadata": {},
   "outputs": [],
   "source": [
    "def fraction_strong_test(treatment_corr, null, num_treatments):\n",
    "    null.sort()\n",
    "    p95 = null[ int( 0.95*len(null) ) ]\n",
    "    fraction = np.sum([m > p95 for m in treatment_corr])/num_treatments\n",
    "    print(\"Treatments tested:\", num_treatments)\n",
    "    print(\"At 95th percentile of the null\")\n",
    "    print(\"Fraction strong: {:5.2f}%\".format(fraction*100))\n",
    "    print(\"Null threshold: {:6.4f}\".format(p95))"
   ]
  },
  {
   "cell_type": "markdown",
   "metadata": {},
   "source": [
    "# Load single cell data"
   ]
  },
  {
   "cell_type": "code",
   "execution_count": 6,
   "metadata": {},
   "outputs": [],
   "source": [
    "if not os.path.isfile(\"well_level_data.csv\"):\n",
    "    features = []\n",
    "    for i in tqdm(meta.index):\n",
    "        filename = PROJECT_ROOT + \"outputs/\" + EXP + \"/features/{}_{}_{}.npz\"\n",
    "        filename = filename.format(\n",
    "            meta.loc[i, \"Metadata_Plate\"], \n",
    "            meta.loc[i, \"Metadata_Well\"], \n",
    "            meta.loc[i, \"Metadata_Site\"]\n",
    "        )\n",
    "        if os.path.isfile(filename):\n",
    "            with open(filename, \"rb\") as data:\n",
    "                info = np.load(data)\n",
    "                features.append(info[\"f\"])\n",
    "        else:\n",
    "            features.append([])"
   ]
  },
  {
   "cell_type": "code",
   "execution_count": 7,
   "metadata": {},
   "outputs": [],
   "source": [
    "if not os.path.isfile(\"well_level_data.csv\"):\n",
    "    total_single_cells = 0\n",
    "    for i in range(len(features)):\n",
    "        if len(features[i]) > 0:\n",
    "            total_single_cells += features[i].shape[0]\n",
    "\n",
    "    print(\"Total images\",len(features),features[0].shape)\n",
    "    print(\"Total single cells:\", total_single_cells)"
   ]
  },
  {
   "cell_type": "markdown",
   "metadata": {},
   "source": [
    "# Aggregate into site-level profiles"
   ]
  },
  {
   "cell_type": "code",
   "execution_count": 8,
   "metadata": {},
   "outputs": [],
   "source": [
    "if not os.path.isfile(\"well_level_data.csv\"):\n",
    "    site_level_data = []\n",
    "    site_level_features = []\n",
    "    for plate in tqdm(meta[\"Metadata_Plate\"].unique()):\n",
    "        m1 = meta[\"Metadata_Plate\"] == plate\n",
    "        wells = meta[m1][\"Metadata_Well\"].unique()\n",
    "        for well in wells:\n",
    "            result = meta.query(\"Metadata_Plate == '{}' and Metadata_Well == '{}'\".format(plate, well))\n",
    "            for i in result.index:\n",
    "                if len(features[i]) == 0:\n",
    "                    continue\n",
    "                num_features = features[i].shape[1]\n",
    "                mean_profile = features[i].mean(axis=0)\n",
    "                gene_name = result[\"gene_name\"].unique()\n",
    "                replicate = result[\"gene_name_Replicate\"].unique()\n",
    "                if len(gene_name) > 1:\n",
    "                    print(gene_name)\n",
    "                site_level_data.append(\n",
    "                    {\n",
    "                        \"Plate\": plate,\n",
    "                        \"Well\": well,\n",
    "                        \"Gene\": gene_name[0],\n",
    "                        \"Replicate\": replicate[0]\n",
    "                    }\n",
    "                )\n",
    "                site_level_features.append(mean_profile)"
   ]
  },
  {
   "cell_type": "code",
   "execution_count": 9,
   "metadata": {},
   "outputs": [],
   "source": [
    "if not os.path.isfile(\"well_level_data.csv\"):\n",
    "    columns1 = [\"Plate\", \"Well\", \"Gene\", \"Replicate\"]\n",
    "    columns2 = [i for i in range(num_features)]\n",
    "    \n",
    "    sites1 = pd.DataFrame(columns=columns1, data=site_level_data)\n",
    "    sites2 = pd.DataFrame(columns=columns2, data=site_level_features)\n",
    "    sites = pd.concat([sites1, sites2], axis=1)\n",
    "else:\n",
    "    columns2 = [str(i) for i in range(num_features)]"
   ]
  },
  {
   "cell_type": "markdown",
   "metadata": {},
   "source": [
    "# Aggregate into well-level profiles"
   ]
  },
  {
   "cell_type": "code",
   "execution_count": 10,
   "metadata": {},
   "outputs": [],
   "source": [
    "# Collapse well data\n",
    "if not os.path.isfile(\"well_level_data.csv\"):\n",
    "    wells = sites.groupby([\"Plate\", \"Well\", \"Gene\"]).mean().reset_index()\n",
    "    wells.to_csv(\"well_level_data.csv\", index=False)\n",
    "else:\n",
    "    wells = pd.read_csv(\"well_level_data.csv\")"
   ]
  },
  {
   "cell_type": "code",
   "execution_count": 11,
   "metadata": {},
   "outputs": [],
   "source": [
    "# Attach gene names to the dataframe\n",
    "gene_ids = pd.read_csv(\"labels.csv\")\n",
    "gene_names = gene_ids.Treatment.str.split(\"@\", expand=True)\n",
    "gene_names.columns = [\"Number\", \"Gene_Name\"]\n",
    "gene_names[\"ID\"] = gene_names.index\n",
    "genes = pd.merge(gene_ids, gene_names, on=\"ID\")\n",
    "\n",
    "wells = pd.merge(wells, genes, left_on=\"Gene\", right_on=\"ID\")"
   ]
  },
  {
   "cell_type": "markdown",
   "metadata": {},
   "source": [
    "# Replicate correlation of treatments"
   ]
  },
  {
   "cell_type": "code",
   "execution_count": 12,
   "metadata": {},
   "outputs": [],
   "source": [
    "CRM = np.corrcoef(wells[columns2])\n",
    "controls = [\"EMPTY\", \"eGFP\", \"Luciferase\", \"LacZ\"]"
   ]
  },
  {
   "cell_type": "code",
   "execution_count": 13,
   "metadata": {},
   "outputs": [],
   "source": [
    "# Compute replicate correlation on treated wells\n",
    "replicate_correlations = []\n",
    "treatments = [x for x in wells.Gene_Name.unique() if x not in controls]\n",
    "\n",
    "for gene in treatments:\n",
    "    idx = [i for i in wells[wells[\"Gene_Name\"] == gene].index]\n",
    "    rc = np.median(CRM[np.ix_(idx, idx)])\n",
    "    replicate_correlations.append(rc)"
   ]
  },
  {
   "cell_type": "code",
   "execution_count": 14,
   "metadata": {},
   "outputs": [],
   "source": [
    "# Compute a null distribution using random treated wells\n",
    "null_distribution = []\n",
    "treated_well_index = [x for x in wells[wells[\"Gene_Name\"].isin(treatments)].index]\n",
    "\n",
    "for k in range(1000):\n",
    "    np.random.shuffle(treated_well_index)\n",
    "    idx = treated_well_index[0:10]\n",
    "    rc = np.median(CRM[np.ix_(idx, idx)])\n",
    "    null_distribution.append(rc)"
   ]
  },
  {
   "cell_type": "code",
   "execution_count": 15,
   "metadata": {},
   "outputs": [
    {
     "name": "stdout",
     "output_type": "stream",
     "text": [
      "Treatments tested: 190\n",
      "At 95th percentile of the null\n",
      "Fraction strong: 67.89%\n",
      "Null threshold: 0.9908\n"
     ]
    }
   ],
   "source": [
    "# Fraction of strong connections\n",
    "fraction_strong_test(replicate_correlations, null_distribution, len(treatments))"
   ]
  },
  {
   "cell_type": "code",
   "execution_count": 16,
   "metadata": {},
   "outputs": [
    {
     "data": {
      "text/plain": [
       "<matplotlib.axes._subplots.AxesSubplot at 0x7fc2dbb3be80>"
      ]
     },
     "execution_count": 16,
     "metadata": {},
     "output_type": "execute_result"
    },
    {
     "data": {
      "image/png": "[encoded data removed]",
      "text/plain": [
       "<Figure size 864x432 with 1 Axes>"
      ]
     },
     "metadata": {
      "needs_background": "light"
     },
     "output_type": "display_data"
    }
   ],
   "source": [
    "# Visualization of distributions\n",
    "truereps = pd.DataFrame(data=replicate_correlations, columns=[\"Replicate_Correlation\"])\n",
    "null = pd.DataFrame(data=null_distribution, columns=[\"Replicate_Correlation\"])\n",
    "\n",
    "plt.figure(figsize=(12,6))\n",
    "sb.distplot(truereps[\"Replicate_Correlation\"], bins=50)\n",
    "sb.distplot(null[\"Replicate_Correlation\"], bins=50)"
   ]
  },
  {
   "cell_type": "markdown",
   "metadata": {},
   "source": [
    "# Replicate correlation of controls"
   ]
  },
  {
   "cell_type": "code",
   "execution_count": 17,
   "metadata": {},
   "outputs": [],
   "source": [
    "# Compute replicate correlation on treated wells\n",
    "control_correlations = []\n",
    "plates = [x for x in wells.Plate.unique()]\n",
    "\n",
    "for plate in plates:\n",
    "    for s in range(10):\n",
    "        idx = [x for x in wells[wells[\"Gene_Name\"].isin(controls)].query(\"Plate == \" + str(plate)).index]\n",
    "        np.random.shuffle(idx)\n",
    "        idx = idx[0:10]\n",
    "        rc = np.median(CRM[np.ix_(idx, idx)])\n",
    "        control_correlations.append(rc)"
   ]
  },
  {
   "cell_type": "code",
   "execution_count": 18,
   "metadata": {},
   "outputs": [],
   "source": [
    "# Compute a null distribution using random treated wells\n",
    "control_null = []\n",
    "control_well_index = [x for x in wells[wells[\"Gene_Name\"].isin(controls)].index]\n",
    "\n",
    "for k in range(1000):\n",
    "    np.random.shuffle(control_well_index)\n",
    "    idx = control_well_index[0:10]\n",
    "    rc = np.median(CRM[np.ix_(idx, idx)])\n",
    "    control_null.append(rc)"
   ]
  },
  {
   "cell_type": "code",
   "execution_count": 19,
   "metadata": {},
   "outputs": [
    {
     "name": "stdout",
     "output_type": "stream",
     "text": [
      "Treatments tested: 50\n",
      "At 95th percentile of the null\n",
      "Fraction strong:  6.00%\n",
      "Null threshold: 0.9916\n"
     ]
    }
   ],
   "source": [
    "fraction_strong_test(control_correlations, control_null, len(plates)*10)"
   ]
  },
  {
   "cell_type": "code",
   "execution_count": 20,
   "metadata": {},
   "outputs": [
    {
     "data": {
      "text/plain": [
       "<matplotlib.axes._subplots.AxesSubplot at 0x7fc2dbacd128>"
      ]
     },
     "execution_count": 20,
     "metadata": {},
     "output_type": "execute_result"
    },
    {
     "data": {
      "image/png": "[encoded data removed]",
      "text/plain": [
       "<Figure size 864x432 with 1 Axes>"
      ]
     },
     "metadata": {
      "needs_background": "light"
     },
     "output_type": "display_data"
    }
   ],
   "source": [
    "platereps = pd.DataFrame(data=control_correlations, columns=[\"Control_Correlation\"])\n",
    "platenull = pd.DataFrame(data=control_null, columns=[\"Control_Correlation\"])\n",
    "\n",
    "plt.figure(figsize=(12,6))\n",
    "sb.distplot(platereps[\"Control_Correlation\"], bins=50)\n",
    "sb.distplot(platenull[\"Control_Correlation\"], bins=50)"
   ]
  },
  {
   "cell_type": "code",
   "execution_count": null,
   "metadata": {},
   "outputs": [],
   "source": []
  }
 ],
 "metadata": {
  "kernelspec": {
   "display_name": "Python 3",
   "language": "python",
   "name": "python3"
  },
  "language_info": {
   "codemirror_mode": {
    "name": "ipython",
    "version": 3
   },
   "file_extension": ".py",
   "mimetype": "text/x-python",
   "name": "python",
   "nbconvert_exporter": "python",
   "pygments_lexer": "ipython3",
   "version": "3.7.3"
  }
 },
 "nbformat": 4,
 "nbformat_minor": 2
}
