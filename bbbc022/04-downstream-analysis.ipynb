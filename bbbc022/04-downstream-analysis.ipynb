{
 "cells": [
  {
   "cell_type": "markdown",
   "metadata": {},
   "source": [
    "# MOA Evaluation using enrichment analysis\n",
    "\n",
    "- Adopted here: https://www.nature.com/articles/s41467-019-10154-8\n",
    "- Explained here: https://yulab-smu.github.io/clusterProfiler-book/chapter2.html\n",
    "\n",
    "### Procedure:\n",
    "1. Compute similarity / correlation / affinity matrix\n",
    "1. Define MOA matching criteria based on metadata\n",
    "  - https://github.com/carpenterlab/2018_rohban_natcomm/blob/master/code/moa_evaluations.R#L67\n",
    "  - https://github.com/carpenterlab/2018_rohban_natcomm/blob/master/code/evaluate.R#L190\n",
    "1. Find the threshold of top connections (percentile)\n",
    "1. Run enrichment analysis (one-sided version of Fisher's exact test)\n",
    "  - https://github.com/carpenterlab/2018_rohban_natcomm/blob/master/code/moa_evaluations.R#L97\n",
    "  - https://github.com/carpenterlab/2018_rohban_natcomm/blob/master/code/evaluate.R#L205"
   ]
  },
  {
   "cell_type": "code",
   "execution_count": 1,
   "metadata": {},
   "outputs": [],
   "source": [
    "import pandas as pd\n",
    "import numpy as np\n",
    "import seaborn as sb\n",
    "import matplotlib.pyplot as plt\n",
    "import pickle\n",
    "import sys\n",
    "\n",
    "sys.path.append(\"../profiling/\")\n",
    "\n",
    "import metrics\n",
    "import quality\n",
    "import profiling"
   ]
  },
  {
   "cell_type": "markdown",
   "metadata": {},
   "source": [
    "# Load correlation matrix"
   ]
  },
  {
   "cell_type": "code",
   "execution_count": 2,
   "metadata": {},
   "outputs": [],
   "source": [
    "CORR_MATRIX = \"data/correlation_matrix.csv\"\n",
    "#CORR_MATRIX = \"data/cr_median_clean.csv\"\n",
    "OUT_RESUTS = \"data/InceptionResnetV2_results.pkl\""
   ]
  },
  {
   "cell_type": "code",
   "execution_count": 3,
   "metadata": {},
   "outputs": [],
   "source": [
    "# df = pd.read_csv(\"data/cr_median.csv\")\n",
    "# clean = df[df[\"Unnamed: 0\"].isin(df.groupby([\"Var1\",\"Var2\",\"value\"])[\"Unnamed: 0\"].max().reset_index()[\"Unnamed: 0\"])]\n",
    "# clean.to_csv(\"data/cr_median_clean.csv\", index=False)"
   ]
  },
  {
   "cell_type": "code",
   "execution_count": 4,
   "metadata": {},
   "outputs": [],
   "source": [
    "X, Y = profiling.load_correlation_matrix(CORR_MATRIX)"
   ]
  },
  {
   "cell_type": "code",
   "execution_count": 5,
   "metadata": {},
   "outputs": [],
   "source": [
    "# Z = Y.groupby([\"Var1\"]).max().reset_index()\n",
    "# Z[[\"Var1\", \"Metadata_moa.x\", \"Metadata_Plate_Map_Name.x\"]].to_csv(\"data/BBBC022_MOA_MATCHES.csv\")"
   ]
  },
  {
   "cell_type": "markdown",
   "metadata": {},
   "source": [
    "# MOA matching"
   ]
  },
  {
   "cell_type": "code",
   "execution_count": 6,
   "metadata": {},
   "outputs": [
    {
     "data": {
      "text/plain": [
       "Metadata_moa.x\n",
       "11-beta hydroxysteroid dehydrogenase inhibitor                                                                                    2\n",
       "3-ketoacyl CoA thiolase inhibitor                                                                                                 1\n",
       "5 alpha reductase inhibitor                                                                                                       1\n",
       "ABC transporter expression enhancer|high conductance calcium activated potassium blocker|LXR agonist|potassium channel blocker    1\n",
       "ACAT inhibitor                                                                                                                    1\n",
       "                                                                                                                                 ..\n",
       "vitamin B                                                                                                                         1\n",
       "vitamin B2                                                                                                                        1\n",
       "vitamin D receptor agonist                                                                                                        1\n",
       "vitamin K antagonist                                                                                                              3\n",
       "voltage-gated sodium channel blocker                                                                                              1\n",
       "Name: Var1, Length: 463, dtype: int64"
      ]
     },
     "execution_count": 6,
     "metadata": {},
     "output_type": "execute_result"
    }
   ],
   "source": [
    "Y.groupby(\"Metadata_moa.x\")[\"Var1\"].count()"
   ]
  },
  {
   "cell_type": "code",
   "execution_count": 7,
   "metadata": {},
   "outputs": [],
   "source": [
    "moa_matches = []\n",
    "for k,r in Y.iterrows():\n",
    "    moas = r[\"Metadata_moa.x\"].split(\"|\")\n",
    "    candidates = []\n",
    "    for m in moas:\n",
    "        candidates.append(Y[\"Metadata_moa.x\"].str.find(m) != -1)\n",
    "    matches = candidates[0]\n",
    "    for c in candidates:\n",
    "        matches = matches | c\n",
    "    moa_matches.append(matches)"
   ]
  },
  {
   "cell_type": "code",
   "execution_count": 8,
   "metadata": {},
   "outputs": [
    {
     "data": {
      "text/plain": [
       "<matplotlib.image.AxesImage at 0x7f4741ccb390>"
      ]
     },
     "execution_count": 8,
     "metadata": {},
     "output_type": "execute_result"
    },
    {
     "data": {
      "image/png": "[encoded data removed]",
      "text/plain": [
       "<matplotlib.figure.Figure at 0x7f4741dbf160>"
      ]
     },
     "metadata": {},
     "output_type": "display_data"
    }
   ],
   "source": [
    "moa_matches = np.asarray(moa_matches)\n",
    "plt.imshow(moa_matches)"
   ]
  },
  {
   "cell_type": "markdown",
   "metadata": {},
   "source": [
    "# Enrichment analysis"
   ]
  },
  {
   "cell_type": "code",
   "execution_count": 9,
   "metadata": {},
   "outputs": [
    {
     "name": "stdout",
     "output_type": "stream",
     "text": [
      "98.0 0.626339144043361\n",
      "[[   505  10405]\n",
      " [  5198 529382]] 545490\n",
      "98.2 0.6368597181670239\n",
      "[[   473   9346]\n",
      " [  5230 530441]] 545490\n",
      "98.4 0.6489997971704106\n",
      "[[   445   8283]\n",
      " [  5258 531504]] 545490\n",
      "98.60000000000001 0.6620055457250774\n",
      "[[   420   7217]\n",
      " [  5283 532570]] 545490\n",
      "98.80000000000001 0.676540264956414\n",
      "[[   375   6171]\n",
      " [  5328 533616]] 545490\n",
      "99.00000000000001 0.6939601735772596\n",
      "[[   336   5119]\n",
      " [  5367 534668]] 545490\n",
      "99.20000000000002 0.7142501740127245\n",
      "[[   294   4070]\n",
      " [  5409 535717]] 545490\n",
      "99.40000000000002 0.7377502987763971\n",
      "[[   243   3030]\n",
      " [  5460 536757]] 545490\n",
      "99.60000000000002 0.770152879595867\n",
      "[[   174   2008]\n",
      " [  5529 537779]] 545490\n"
     ]
    }
   ],
   "source": [
    "results = []\n",
    "Z = np.asarray(X[Y.Var1])\n",
    "ut_idx = np.triu_indices(moa_matches.shape[1], k=1)\n",
    "\n",
    "for p in np.arange(98, 99.7, 0.2):\n",
    "    r = quality.enrichment_analysis_matrix(Z[ut_idx], moa_matches[ut_idx], p)\n",
    "    results.append(r)\n",
    "\n",
    "R = pd.DataFrame(data=results)"
   ]
  },
  {
   "cell_type": "code",
   "execution_count": 10,
   "metadata": {},
   "outputs": [
    {
     "data": {
      "text/plain": [
       "[<matplotlib.lines.Line2D at 0x7f4741ce7ba8>]"
      ]
     },
     "execution_count": 10,
     "metadata": {},
     "output_type": "execute_result"
    },
    {
     "data": {
      "image/png": "[encoded data removed]",
      "text/plain": [
       "<matplotlib.figure.Figure at 0x7f4741d01400>"
      ]
     },
     "metadata": {},
     "output_type": "display_data"
    }
   ],
   "source": [
    "plt.figure(figsize=(10,6))\n",
    "plt.plot(100-R[\"percentile\"], R[\"ods_ratio\"])"
   ]
  },
  {
   "cell_type": "markdown",
   "metadata": {},
   "source": [
    "# Average precision analysis"
   ]
  },
  {
   "cell_type": "code",
   "execution_count": 11,
   "metadata": {},
   "outputs": [],
   "source": [
    "def average_precision(corr_matrix, moa_matches, rank_pos=None):\n",
    "    results = []\n",
    "    for i in range(corr_matrix.shape[0]):\n",
    "        rank = np.argsort(-corr_matrix[i,:])\n",
    "        ap = metrics.average_precision(moa_matches[i, rank[1:rank_pos]])\n",
    "        results.append(ap)\n",
    "    return results"
   ]
  },
  {
   "cell_type": "code",
   "execution_count": 12,
   "metadata": {},
   "outputs": [],
   "source": [
    "positions = [x for x in range(5,55,5)]\n",
    "CRM = np.asarray(X[Y.Var1])\n",
    "map_at = [np.mean( average_precision(CRM, moa_matches, pos) ) for pos in positions]"
   ]
  },
  {
   "cell_type": "code",
   "execution_count": 13,
   "metadata": {},
   "outputs": [
    {
     "data": {
      "text/plain": [
       "[<matplotlib.lines.Line2D at 0x7f473fba1f28>]"
      ]
     },
     "execution_count": 13,
     "metadata": {},
     "output_type": "execute_result"
    },
    {
     "data": {
      "image/png": "[encoded data removed]",
      "text/plain": [
       "<matplotlib.figure.Figure at 0x7f4741cc6eb8>"
      ]
     },
     "metadata": {},
     "output_type": "display_data"
    }
   ],
   "source": [
    "plt.figure(figsize=(10,6))\n",
    "plt.plot(positions, map_at)"
   ]
  },
  {
   "cell_type": "code",
   "execution_count": 14,
   "metadata": {},
   "outputs": [
    {
     "data": {
      "text/plain": [
       "0.04031664681157598"
      ]
     },
     "execution_count": 14,
     "metadata": {},
     "output_type": "execute_result"
    }
   ],
   "source": [
    "np.mean( average_precision(CRM, moa_matches) )"
   ]
  },
  {
   "cell_type": "markdown",
   "metadata": {},
   "source": [
    "# Recall analysis"
   ]
  },
  {
   "cell_type": "code",
   "execution_count": 15,
   "metadata": {},
   "outputs": [],
   "source": [
    "def recall_at(corr_matrix, moa_matches, rank_pos=None):\n",
    "    results = []\n",
    "    for i in range(corr_matrix.shape[0]):\n",
    "        rank = np.argsort(-corr_matrix[i,:])\n",
    "        rc = np.sum(moa_matches[i, rank[1:rank_pos]]) / np.sum(moa_matches[i,:])\n",
    "        results.append(rc)\n",
    "    return results"
   ]
  },
  {
   "cell_type": "code",
   "execution_count": 16,
   "metadata": {},
   "outputs": [],
   "source": [
    "recall = [np.mean( recall_at(CRM, moa_matches, pos) ) for pos in positions]"
   ]
  },
  {
   "cell_type": "code",
   "execution_count": 17,
   "metadata": {},
   "outputs": [
    {
     "data": {
      "text/plain": [
       "[<matplotlib.lines.Line2D at 0x7f473fb02cc0>]"
      ]
     },
     "execution_count": 17,
     "metadata": {},
     "output_type": "execute_result"
    },
    {
     "data": {
      "image/png": "[encoded data removed]",
      "text/plain": [
       "<matplotlib.figure.Figure at 0x7f473fbbb828>"
      ]
     },
     "metadata": {},
     "output_type": "display_data"
    }
   ],
   "source": [
    "plt.figure(figsize=(10,6))\n",
    "plt.plot(positions, recall)"
   ]
  },
  {
   "cell_type": "code",
   "execution_count": 18,
   "metadata": {},
   "outputs": [
    {
     "data": {
      "text/plain": [
       "0.0718064815099186"
      ]
     },
     "execution_count": 18,
     "metadata": {},
     "output_type": "execute_result"
    }
   ],
   "source": [
    "np.mean( recall_at(CRM, moa_matches, 50) )"
   ]
  },
  {
   "cell_type": "markdown",
   "metadata": {},
   "source": [
    "# Save Results"
   ]
  },
  {
   "cell_type": "code",
   "execution_count": 19,
   "metadata": {},
   "outputs": [],
   "source": [
    "results = {\n",
    "    \"enrichment\": R,\n",
    "    \"ranking\": positions,\n",
    "    \"avg_precision\": map_at,\n",
    "    \"recall\": recall\n",
    "}\n",
    "\n",
    "with open(OUT_RESUTS, \"bw\") as out:\n",
    "    pickle.dump(results, out)"
   ]
  },
  {
   "cell_type": "code",
   "execution_count": null,
   "metadata": {},
   "outputs": [],
   "source": []
  }
 ],
 "metadata": {
  "kernelspec": {
   "display_name": "Python 3",
   "language": "python",
   "name": "python3"
  },
  "language_info": {
   "codemirror_mode": {
    "name": "ipython",
    "version": 3
   },
   "file_extension": ".py",
   "mimetype": "text/x-python",
   "name": "python",
   "nbconvert_exporter": "python",
   "pygments_lexer": "ipython3",
   "version": "3.6.4"
  }
 },
 "nbformat": 4,
 "nbformat_minor": 4
}
