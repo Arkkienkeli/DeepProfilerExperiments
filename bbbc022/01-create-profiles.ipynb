{
 "cells": [
  {
   "cell_type": "code",
   "execution_count": null,
   "metadata": {
    "pycharm": {
     "name": "#%%\n"
    }
   },
   "outputs": [],
   "source": [
    "import pandas as pd\n",
    "import numpy as np\n",
    "import sys\n",
    "import os\n",
    "import sklearn.metrics\n",
    "\n",
    "from tqdm import tqdm\n",
    "\n",
    "sys.path.append(\"../profiling/\")\n",
    "import profiling"
   ]
  },
  {
   "cell_type": "code",
   "execution_count": null,
   "metadata": {
    "pycharm": {
     "name": "#%%\n"
    }
   },
   "outputs": [],
   "source": [
    "PROJECT_ROOT = \"/dgx1nas1/cellpainting-datasets/BBBC022/\"\n",
    "EXP = \"cp_dataset_mixedval\"\n",
    "OUTPUT_FILE = \"data/well_level_data_efn128combinedcellsout_conv6a_1e-2_e30.csv\"\n",
    "MATRIX_FILE = \"data/cos_efn128combinedcellsout_conv6a_1e-2_e30.csv\"\n",
    "REG_PARAM = 1e-2"
   ]
  },
  {
   "cell_type": "code",
   "execution_count": null,
   "metadata": {
    "pycharm": {
     "name": "#%%\n"
    }
   },
   "outputs": [],
   "source": [
    "# Load metadata\n",
    "meta = pd.read_csv(os.path.join(PROJECT_ROOT, \"inputs/metadata/index_after_qc_trimmed_maxconc.csv\"))"
   ]
  },
  {
   "cell_type": "code",
   "execution_count": null,
   "metadata": {
    "pycharm": {
     "name": "#%%\n"
    }
   },
   "outputs": [],
   "source": [
    "meta[\"broad_sample\"] = meta[\"Treatment\"].str.split(\"@\", expand=True)[0]"
   ]
  },
  {
   "cell_type": "markdown",
   "metadata": {},
   "source": [
    "# 1. Load single-cell data"
   ]
  },
  {
   "cell_type": "code",
   "execution_count": null,
   "metadata": {
    "pycharm": {
     "name": "#%%\n"
    }
   },
   "outputs": [],
   "source": [
    "features = []\n",
    "for i in tqdm(meta.index):\n",
    "    filename = PROJECT_ROOT + \"outputs/\" + EXP + \"/features/{}/{}/{}.npz\"\n",
    "    filename = filename.format(\n",
    "        meta.loc[i, \"Metadata_Plate\"], \n",
    "        meta.loc[i, \"Metadata_Well\"], \n",
    "        meta.loc[i, \"Metadata_Site\"]\n",
    "    )\n",
    "    if os.path.isfile(filename):\n",
    "        with open(filename, \"rb\") as data:\n",
    "            info = np.load(data)\n",
    "            features.append(info[\"features\"])\n",
    "    else:\n",
    "        features.append([])"
   ]
  },
  {
   "cell_type": "code",
   "execution_count": null,
   "metadata": {
    "pycharm": {
     "name": "#%%\n"
    }
   },
   "outputs": [],
   "source": [
    "total_single_cells = 0\n",
    "for i in range(len(features)):\n",
    "    if len(features[i]) > 0:\n",
    "        total_single_cells += features[i].shape[0]\n",
    "\n",
    "num_features = features[0].shape[1]\n",
    "print(\"Total images\",len(features),features[0].shape)\n",
    "print(\"Total single cells:\", total_single_cells)"
   ]
  },
  {
   "cell_type": "markdown",
   "metadata": {},
   "source": [
    "# 2. Site-level profiles / Median Aggregation"
   ]
  },
  {
   "cell_type": "code",
   "execution_count": null,
   "metadata": {
    "pycharm": {
     "name": "#%%\n"
    }
   },
   "outputs": [],
   "source": [
    "site_level_data = []\n",
    "site_level_features = []\n",
    "for plate in tqdm(meta[\"Metadata_Plate\"].unique()):\n",
    "    m1 = meta[\"Metadata_Plate\"] == plate\n",
    "    wells = meta[m1][\"Metadata_Well\"].unique()\n",
    "    for well in wells:\n",
    "        result = meta.query(\"Metadata_Plate == '{}' and Metadata_Well == '{}'\".format(plate, well))\n",
    "        for i in result.index:\n",
    "            if len(features[i]) == 0:\n",
    "                continue\n",
    "            mean_profile = np.median(features[i], axis=0)\n",
    "            pert_name = result[\"Treatment\"].unique()\n",
    "            replicate = result[\"broad_sample_Replicate\"].unique()\n",
    "            if len(pert_name) > 1:\n",
    "                print(pert_name)\n",
    "            site_level_data.append(\n",
    "                {\n",
    "                    \"Plate\": plate,\n",
    "                    \"Well\": well,\n",
    "                    \"Treatment\": pert_name[0],\n",
    "                    \"Replicate\": replicate[0],\n",
    "                    \"broad_sample\": pert_name[0].split(\"@\")[0]\n",
    "                }\n",
    "            )\n",
    "            site_level_features.append(mean_profile)"
   ]
  },
  {
   "cell_type": "code",
   "execution_count": null,
   "metadata": {},
   "outputs": [],
   "source": [
    "columns1 = [\"Plate\", \"Well\", \"Treatment\", \"Replicate\", \"broad_sample\"]\n",
    "columns2 = [i for i in range(num_features)]\n",
    "\n",
    "sites1 = pd.DataFrame(columns=columns1, data=site_level_data)\n",
    "sites2 = pd.DataFrame(columns=columns2, data=site_level_features)\n",
    "sites = pd.concat([sites1, sites2], axis=1)"
   ]
  },
  {
   "cell_type": "markdown",
   "metadata": {},
   "source": [
    "# 3. Well-level profiles / Mean Aggregation"
   ]
  },
  {
   "cell_type": "code",
   "execution_count": null,
   "metadata": {},
   "outputs": [],
   "source": [
    "# Collapse well data\n",
    "wells = sites.groupby([\"Plate\", \"Well\", \"Treatment\"]).mean().reset_index()\n",
    "\n",
    "tmp = meta.groupby([\"Metadata_Plate\", \"Metadata_Well\", \"Treatment\", \"broad_sample\"])[\"DNA\"].count().reset_index()\n",
    "wells = pd.merge(wells, tmp, how=\"left\", left_on=[\"Plate\", \"Well\", \"Treatment\"], right_on=[\"Metadata_Plate\", \"Metadata_Well\", \"Treatment\"])\n",
    "\n",
    "wells = wells[columns1 + columns2]"
   ]
  },
  {
   "cell_type": "markdown",
   "metadata": {},
   "source": [
    "# 4. Whitening"
   ]
  },
  {
   "cell_type": "code",
   "execution_count": null,
   "metadata": {
    "pycharm": {
     "name": "#%%\n"
    }
   },
   "outputs": [],
   "source": [
    "whN = profiling.WhiteningNormalizer(wells.loc[wells[\"Treatment\"] == \"DMSO@0\", columns2], reg_param=REG_PARAM)"
   ]
  },
  {
   "cell_type": "code",
   "execution_count": null,
   "metadata": {},
   "outputs": [],
   "source": [
    "whD = whN.normalize(wells[columns2])"
   ]
  },
  {
   "cell_type": "code",
   "execution_count": null,
   "metadata": {},
   "outputs": [],
   "source": [
    "# Save whitened profiles\n",
    "wells[columns2] = whD\n",
    "wells.to_csv(OUTPUT_FILE, index=False)"
   ]
  },
  {
   "cell_type": "markdown",
   "metadata": {},
   "source": [
    "# 5. Treatment-level profiles / Mean Aggreagation"
   ]
  },
  {
   "cell_type": "code",
   "execution_count": null,
   "metadata": {},
   "outputs": [],
   "source": [
    "# Aggregate profiles\n",
    "columns1 = [\"Plate\", \"Well\", \"Treatment\", \"Replicate\", \"broad_sample\"]\n",
    "columns2 = [i for i in range(num_features)] \n",
    "profiles = wells.groupby(\"Treatment\").mean().reset_index()"
   ]
  },
  {
   "cell_type": "code",
   "execution_count": null,
   "metadata": {},
   "outputs": [],
   "source": [
    "wells[\"broad_sample\"] = wells[\"Treatment\"].str.split(\"@\", expand=True)[0]"
   ]
  },
  {
   "cell_type": "code",
   "execution_count": null,
   "metadata": {},
   "outputs": [],
   "source": [
    "# Recover broad_sample column (cannot be used in groupby because it contains NaN values)\n",
    "tmp = wells.groupby([\"Treatment\", \"broad_sample\"])[\"Replicate\"].count().reset_index()\n",
    "profiles = pd.merge(profiles.reset_index(), tmp, on=\"Treatment\", how=\"left\")"
   ]
  },
  {
   "cell_type": "code",
   "execution_count": null,
   "metadata": {
    "pycharm": {
     "name": "#%%\n"
    }
   },
   "outputs": [],
   "source": [
    "profiles = profiles[[\"Treatment\", \"broad_sample\"] + columns2]"
   ]
  },
  {
   "cell_type": "code",
   "execution_count": null,
   "metadata": {
    "pycharm": {
     "name": "#%%\n"
    }
   },
   "outputs": [],
   "source": [
    "# Remove samples without MOA (according to [1])\n",
    "Y = pd.read_csv(\"data/BBBC022_MOA_MATCHES_official.csv\")\n",
    "profiles = pd.merge(profiles, Y, left_on=\"broad_sample\", right_on=\"Var1\")\n",
    "profiles = profiles[[\"Treatment\", \"broad_sample\", \"Metadata_moa.x\"] + columns2].sort_values(by=\"broad_sample\")"
   ]
  },
  {
   "cell_type": "markdown",
   "metadata": {
    "pycharm": {
     "name": "#%% md\n"
    }
   },
   "source": [
    "# 6. Similarity matrix"
   ]
  },
  {
   "cell_type": "code",
   "execution_count": null,
   "metadata": {
    "pycharm": {
     "name": "#%%\n"
    }
   },
   "outputs": [],
   "source": [
    "# Compute Cosine Similarities\n",
    "COS = sklearn.metrics.pairwise.cosine_similarity(profiles[columns2], profiles[columns2])"
   ]
  },
  {
   "cell_type": "code",
   "execution_count": null,
   "outputs": [],
   "source": [
    "# Transform to tidy format\n",
    "df = pd.DataFrame(data=COS, index=list(profiles.broad_sample), columns=list(profiles.broad_sample))\n",
    "df = df.reset_index().melt(id_vars=[\"index\"])"
   ],
   "metadata": {
    "collapsed": false,
    "pycharm": {
     "name": "#%%\n"
    }
   }
  },
  {
   "cell_type": "code",
   "execution_count": null,
   "metadata": {},
   "outputs": [],
   "source": [
    "# Annotate rows\n",
    "df2 = pd.merge(\n",
    "    df, \n",
    "    profiles[[\"broad_sample\", \"Metadata_moa.x\"]], \n",
    "    how=\"left\", \n",
    "    left_on=\"index\", # <=== Rows\n",
    "    right_on=\"broad_sample\"\n",
    ").drop(\"broad_sample\",axis=1)\n",
    "\n",
    "# Annotate columns\n",
    "df2 = pd.merge(\n",
    "    df2, profiles[[\"broad_sample\", \"Metadata_moa.x\"]],\n",
    "    how=\"left\", \n",
    "    left_on=\"variable\", # <=== Columns\n",
    "    right_on=\"broad_sample\"\n",
    ").drop(\"broad_sample\",axis=1)"
   ]
  },
  {
   "cell_type": "code",
   "execution_count": null,
   "metadata": {
    "pycharm": {
     "name": "#%%\n"
    }
   },
   "outputs": [],
   "source": [
    "# Rename columns and save\n",
    "df2.columns = [\"Var1\", \"Var2\", \"value\", \"Metadata_moa.x\", \"Metadata_moa.y\"]\n",
    "df2.to_csv(MATRIX_FILE, index=False)"
   ]
  },
  {
   "cell_type": "code",
   "execution_count": null,
   "metadata": {},
   "outputs": [],
   "source": []
  }
 ],
 "metadata": {
  "kernelspec": {
   "display_name": "Python 3",
   "language": "python",
   "name": "python3"
  },
  "language_info": {
   "codemirror_mode": {
    "name": "ipython",
    "version": 3
   },
   "file_extension": ".py",
   "mimetype": "text/x-python",
   "name": "python",
   "nbconvert_exporter": "python",
   "pygments_lexer": "ipython3",
   "version": "3.6.4"
  }
 },
 "nbformat": 4,
 "nbformat_minor": 4
}