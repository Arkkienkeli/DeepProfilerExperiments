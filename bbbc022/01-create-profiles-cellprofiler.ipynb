{
 "cells": [
  {
   "cell_type": "code",
   "execution_count": null,
   "metadata": {
    "pycharm": {
     "name": "#%%\n"
    }
   },
   "outputs": [],
   "source": [
    "import pandas as pd\n",
    "import os\n",
    "import sklearn.metrics\n",
    "import sys\n",
    "\n",
    "sys.path.append(\"../profiling/\")\n",
    "import profiling"
   ]
  },
  {
   "cell_type": "code",
   "execution_count": null,
   "metadata": {
    "pycharm": {
     "name": "#%%\n"
    }
   },
   "outputs": [],
   "source": [
    "PROJECT_ROOT = \"/dgx1nas1/cellpainting-datasets/BBBC022/\"\n",
    "OUTPUT_FILE = \"well_level_data_cellprofiler_1e-2.csv\"\n",
    "REG_PARAM = 1e-2\n",
    "MATRIX_FILE = 'cos_cellprofiler_1e-2.csv'"
   ]
  },
  {
   "cell_type": "code",
   "execution_count": null,
   "metadata": {
    "pycharm": {
     "name": "#%%\n"
    }
   },
   "outputs": [],
   "source": [
    "# Load metadata\n",
    "meta = pd.read_csv(os.path.join(PROJECT_ROOT, \"inputs/metadata/index_after_qc_trimmed_maxconc.csv\"))\n",
    "meta[\"broad_sample\"] = meta[\"Treatment\"].str.split(\"@\", expand=True)[0]"
   ]
  },
  {
   "cell_type": "code",
   "execution_count": null,
   "metadata": {
    "pycharm": {
     "name": "#%%\n"
    }
   },
   "outputs": [],
   "source": [
    "# Load profiles\n",
    "prof20585 = pd.read_csv(\"/dgx1nas1/cellpainting-datasets/BBBC022/profiles_cp/20585/20585_normalized.csv\")\n",
    "prof20586 = pd.read_csv(\"/dgx1nas1/cellpainting-datasets/BBBC022/profiles_cp/20586/20586_normalized.csv\")\n",
    "prof20589 = pd.read_csv(\"/dgx1nas1/cellpainting-datasets/BBBC022/profiles_cp/20589/20589_normalized.csv\")\n",
    "prof20590 = pd.read_csv(\"/dgx1nas1/cellpainting-datasets/BBBC022/profiles_cp/20590/20590_normalized.csv\")\n",
    "prof20591 = pd.read_csv(\"/dgx1nas1/cellpainting-datasets/BBBC022/profiles_cp/20591/20591_normalized.csv\")\n",
    "prof20592 = pd.read_csv(\"/dgx1nas1/cellpainting-datasets/BBBC022/profiles_cp/20592/20592_normalized.csv\")\n",
    "prof20593 = pd.read_csv(\"/dgx1nas1/cellpainting-datasets/BBBC022/profiles_cp/20593/20593_normalized.csv\")\n",
    "prof20594 = pd.read_csv(\"/dgx1nas1/cellpainting-datasets/BBBC022/profiles_cp/20594/20594_normalized.csv\")\n",
    "prof20595 = pd.read_csv(\"/dgx1nas1/cellpainting-datasets/BBBC022/profiles_cp/20595/20595_normalized.csv\")\n",
    "prof20596 = pd.read_csv(\"/dgx1nas1/cellpainting-datasets/BBBC022/profiles_cp/20596/20596_normalized.csv\")\n",
    "prof20607 = pd.read_csv(\"/dgx1nas1/cellpainting-datasets/BBBC022/profiles_cp/20607/20607_normalized.csv\")\n",
    "prof20608 = pd.read_csv(\"/dgx1nas1/cellpainting-datasets/BBBC022/profiles_cp/20608/20608_normalized.csv\")\n",
    "prof20625 = pd.read_csv(\"/dgx1nas1/cellpainting-datasets/BBBC022/profiles_cp/20625/20625_normalized.csv\")\n",
    "prof20626 = pd.read_csv(\"/dgx1nas1/cellpainting-datasets/BBBC022/profiles_cp/20626/20626_normalized.csv\")\n",
    "prof20630 = pd.read_csv(\"/dgx1nas1/cellpainting-datasets/BBBC022/profiles_cp/20630/20630_normalized.csv\")\n",
    "prof20633 = pd.read_csv(\"/dgx1nas1/cellpainting-datasets/BBBC022/profiles_cp/20633/20633_normalized.csv\")\n",
    "prof20639 = pd.read_csv(\"/dgx1nas1/cellpainting-datasets/BBBC022/profiles_cp/20639/20639_normalized.csv\")\n",
    "prof20640 = pd.read_csv(\"/dgx1nas1/cellpainting-datasets/BBBC022/profiles_cp/20640/20640_normalized.csv\")\n",
    "prof20641 = pd.read_csv(\"/dgx1nas1/cellpainting-datasets/BBBC022/profiles_cp/20641/20641_normalized.csv\")\n",
    "prof20646 = pd.read_csv(\"/dgx1nas1/cellpainting-datasets/BBBC022/profiles_cp/20646/20646_normalized.csv\")"
   ]
  },
  {
   "cell_type": "code",
   "execution_count": null,
   "outputs": [],
   "source": [
    "well_level_data = pd.concat([prof20585, prof20586, prof20589, prof20590, prof20591, prof20592, prof20593, prof20594, prof20595, prof20596, prof20607, prof20608, prof20625, prof20626, prof20630, prof20633, prof20639, prof20640, prof20641, prof20646])\n",
    "well_level_data['Treatment'] = well_level_data['Metadata_broad_sample'] + '@' + well_level_data['Metadata_mmoles_per_liter'].astype(str)\n",
    "well_level_data.drop(['Metadata_Assay_Plate_Barcode', 'Metadata_Plate_Map_Name', 'Metadata_well_position', 'Metadata_mmoles_per_liter', 'Metadata_source_name', 'Metadata_smiles', 'Metadata_solvent', 'Metadata_compound_name',\n",
    "                     'Metadata_pert_id', 'Metadata_pert_mfc_id', 'Metadata_pert_well', 'Metadata_pert_id_vendor', 'Metadata_cell_id', 'Metadata_broad_sample_type', 'Metadata_pert_vehicle', 'Metadata_pert_type'], axis=1, inplace=True)\n",
    "\n",
    "columns1 = [\"Metadata_Plate\", \"Metadata_Well\", \"Metadata_broad_sample\", \"Treatment\"]\n",
    "columns2 = [i for i in well_level_data.columns if i not in columns1]\n",
    "part1 = well_level_data.loc[:, columns1]\n",
    "part2 = well_level_data.loc[:, columns2]\n",
    "\n",
    "part2.dropna(axis='columns', inplace=True)\n",
    "\n",
    "well_level_data = pd.concat([part1, part2],axis=1)\n",
    "well_level_data.reset_index(inplace=True, drop=True)\n",
    "columns2 = [i for i in well_level_data.columns if i not in columns1]"
   ],
   "metadata": {
    "collapsed": false,
    "pycharm": {
     "name": "#%%\n"
    }
   }
  },
  {
   "cell_type": "code",
   "execution_count": null,
   "outputs": [],
   "source": [
    "#filter wells which did not pass QC\n",
    "a = well_level_data[(well_level_data.Metadata_Plate == 20585) & (well_level_data.Metadata_Well.isin(['K04']))].index\n",
    "well_level_data.drop(a,inplace=True)\n",
    "well_level_data.reset_index(drop=True,inplace=True)\n",
    "a = well_level_data[(well_level_data.Metadata_Plate == 20586) & (well_level_data.Metadata_Well.isin(['E11', 'G02', 'G21', 'H02', 'I11', 'L10']))].index\n",
    "well_level_data.drop(a,inplace=True)\n",
    "well_level_data.reset_index(drop=True,inplace=True)\n",
    "a = well_level_data[(well_level_data.Metadata_Plate == 20589) & (well_level_data.Metadata_Well.isin(['J10']))].index\n",
    "well_level_data.drop(a,inplace=True)\n",
    "well_level_data.reset_index(drop=True,inplace=True)\n",
    "a = well_level_data[(well_level_data.Metadata_Plate == 20591) & (well_level_data.Metadata_Well.isin(['G02', 'M02']))].index\n",
    "well_level_data.drop(a,inplace=True)\n",
    "well_level_data.reset_index(drop=True,inplace=True)\n",
    "a = well_level_data[(well_level_data.Metadata_Plate == 20592) & (well_level_data.Metadata_Well.isin(['A05', 'B12']))].index\n",
    "well_level_data.drop(a,inplace=True)\n",
    "well_level_data.reset_index(drop=True,inplace=True)\n",
    "a = well_level_data[(well_level_data.Metadata_Plate == 20593) & (well_level_data.Metadata_Well.isin(['G02', 'H02', 'H10', 'K01', 'L10']))].index\n",
    "well_level_data.drop(a,inplace=True)\n",
    "well_level_data.reset_index(drop=True,inplace=True)\n",
    "a = well_level_data[(well_level_data.Metadata_Plate == 20594) & (well_level_data.Metadata_Well.isin(['N19', 'P15']))].index\n",
    "well_level_data.drop(a,inplace=True)\n",
    "well_level_data.reset_index(drop=True,inplace=True)\n",
    "a = well_level_data[(well_level_data.Metadata_Plate == 20595) & (well_level_data.Metadata_Well.isin(['H02', 'P23']))].index\n",
    "well_level_data.drop(a,inplace=True)\n",
    "well_level_data.reset_index(drop=True,inplace=True)\n",
    "a = well_level_data[(well_level_data.Metadata_Plate == 20596) & (well_level_data.Metadata_Well.isin(['M02']))].index\n",
    "well_level_data.drop(a,inplace=True)\n",
    "well_level_data.reset_index(drop=True,inplace=True)\n",
    "a = well_level_data[(well_level_data.Metadata_Plate == 20607) & (well_level_data.Metadata_Well.isin(['B12', 'B18', 'F13']))].index\n",
    "well_level_data.drop(a,inplace=True)\n",
    "well_level_data.reset_index(drop=True,inplace=True)\n",
    "a = well_level_data[(well_level_data.Metadata_Plate == 20608) & (well_level_data.Metadata_Well.isin(['G02', 'G21', 'K01', 'M17', 'P16']))].index\n",
    "well_level_data.drop(a,inplace=True)\n",
    "well_level_data.reset_index(drop=True,inplace=True)\n",
    "a = well_level_data[(well_level_data.Metadata_Plate == 20625) & (well_level_data.Metadata_Well.isin(['B12', 'P15']))].index\n",
    "well_level_data.drop(a,inplace=True)\n",
    "well_level_data.reset_index(drop=True,inplace=True)\n",
    "a = well_level_data[(well_level_data.Metadata_Plate == 20626) & (well_level_data.Metadata_Well.isin(['D08', 'H06', 'K03']))].index\n",
    "well_level_data.drop(a,inplace=True)\n",
    "well_level_data.reset_index(drop=True,inplace=True)\n",
    "a = well_level_data[(well_level_data.Metadata_Plate == 20633) & (well_level_data.Metadata_Well.isin(['B12', 'E22']))].index\n",
    "well_level_data.drop(a,inplace=True)\n",
    "well_level_data.reset_index(drop=True,inplace=True)\n",
    "a = well_level_data[(well_level_data.Metadata_Plate == 20639) & (well_level_data.Metadata_Well.isin(['H02']))].index\n",
    "well_level_data.drop(a,inplace=True)\n",
    "well_level_data.reset_index(drop=True,inplace=True)\n",
    "a = well_level_data[(well_level_data.Metadata_Plate == 20640) & (well_level_data.Metadata_Well.isin(['P15']))].index\n",
    "well_level_data.drop(a,inplace=True)\n",
    "well_level_data.reset_index(drop=True,inplace=True)\n",
    "a = well_level_data[(well_level_data.Metadata_Plate == 20641) & (well_level_data.Metadata_Well.isin(['H06']))].index\n",
    "well_level_data.drop(a,inplace=True)\n",
    "well_level_data.reset_index(drop=True,inplace=True)\n",
    "a = well_level_data[(well_level_data.Metadata_Plate == 20646) & (well_level_data.Metadata_Well.isin(['F24', 'G02', 'P16']))].index\n",
    "well_level_data.drop(a,inplace=True)\n",
    "well_level_data.reset_index(drop=True,inplace=True)"
   ],
   "metadata": {
    "collapsed": false,
    "pycharm": {
     "name": "#%%\n"
    }
   }
  },
  {
   "cell_type": "code",
   "execution_count": null,
   "outputs": [],
   "source": [
    "meta1 = meta.loc[:,['Metadata_Plate','Metadata_Well','broad_sample_Replicate', 'Treatment']]\n",
    "well_level_data = well_level_data.merge(meta1, how='right', left_on=['Metadata_Plate', 'Metadata_Well'], right_on=['Metadata_Plate', 'Metadata_Well']).drop_duplicates()\n",
    "well_level_data.drop(columns=['Treatment_x'], inplace = True)\n",
    "well_level_data.rename(columns = {'Treatment_y':'Treatment'}, inplace = True)\n",
    "well_level_data = well_level_data.astype({'Metadata_Plate':'object', 'Metadata_Well':'object', 'Metadata_broad_sample':'object', 'broad_sample_Replicate':'object', 'Treatment':'object'})\n",
    "well_level_data.reset_index(drop=True, inplace=True)"
   ],
   "metadata": {
    "collapsed": false,
    "pycharm": {
     "name": "#%%\n"
    }
   }
  },
  {
   "cell_type": "markdown",
   "metadata": {
    "pycharm": {
     "name": "#%% md\n"
    }
   },
   "source": [
    "# 4. Whitening"
   ]
  },
  {
   "cell_type": "code",
   "execution_count": null,
   "metadata": {
    "pycharm": {
     "name": "#%%\n"
    }
   },
   "outputs": [],
   "source": [
    "whN = profiling.WhiteningNormalizer(well_level_data.loc[well_level_data[\"Metadata_broad_sample\"].isin([\"DMSO\"]), columns2],REG_PARAM)"
   ]
  },
  {
   "cell_type": "code",
   "execution_count": null,
   "metadata": {
    "pycharm": {
     "name": "#%%\n"
    }
   },
   "outputs": [],
   "source": [
    "whD = whN.normalize(well_level_data[columns2])"
   ]
  },
  {
   "cell_type": "code",
   "execution_count": null,
   "metadata": {
    "pycharm": {
     "name": "#%%\n"
    }
   },
   "outputs": [],
   "source": [
    "# Save whitened profiles\n",
    "well_level_data[columns2] = whD\n",
    "well_level_data.to_csv(OUTPUT_FILE, index=False)"
   ]
  },
  {
   "cell_type": "markdown",
   "metadata": {
    "pycharm": {
     "name": "#%% md\n"
    }
   },
   "source": [
    "# 5. Treatment-level profiles / Mean Aggreagation"
   ]
  },
  {
   "cell_type": "code",
   "execution_count": null,
   "metadata": {
    "pycharm": {
     "name": "#%%\n"
    }
   },
   "outputs": [],
   "source": [
    "# Aggregate profiles\n",
    "well_level_data[\"Metadata_broad_sample\"] = well_level_data[\"Treatment\"].str.split(\"@\", expand=True)[0]\n",
    "columns1 = [\"Metadata_Plate\", \"Metadata_Well\", \"Treatment\", \"broad_sample_Replicate\", \"Metadata_broad_sample\"]\n",
    "columns2 = list(well_level_data.columns)[3:-2]\n",
    "profiles = well_level_data.groupby(\"Treatment\").mean().reset_index()"
   ]
  },
  {
   "cell_type": "code",
   "execution_count": null,
   "metadata": {
    "pycharm": {
     "name": "#%%\n"
    }
   },
   "outputs": [],
   "source": [
    "# Recover broad_sample column (cannot be used in groupby because it contains NaN values)\n",
    "tmp = well_level_data.groupby([\"Treatment\", \"Metadata_broad_sample\"])[\"broad_sample_Replicate\"].count().reset_index()\n",
    "profiles = pd.merge(profiles.reset_index(drop=True), tmp, on=\"Treatment\", how=\"left\")"
   ]
  },
  {
   "cell_type": "code",
   "execution_count": null,
   "metadata": {
    "pycharm": {
     "name": "#%%\n"
    }
   },
   "outputs": [],
   "source": [
    "profiles = profiles[[\"Treatment\", \"Metadata_broad_sample\"] + columns2]"
   ]
  },
  {
   "cell_type": "code",
   "execution_count": null,
   "metadata": {
    "pycharm": {
     "name": "#%%\n"
    }
   },
   "outputs": [],
   "source": [
    "# Remove samples without MOA (according to [1])\n",
    "Y = pd.read_csv(\"data/BBBC022_MOA_MATCHES_fixed_trimmed_filtered_v2.csv\")\n",
    "profiles = pd.merge(profiles, Y, left_on=\"Metadata_broad_sample\", right_on=\"Var1\")\n",
    "profiles = profiles[[\"Treatment\", \"Metadata_broad_sample\", \"Metadata_moa.x\"] + columns2].sort_values(by=\"Metadata_broad_sample\")"
   ]
  },
  {
   "cell_type": "markdown",
   "metadata": {
    "pycharm": {
     "name": "#%% md\n"
    }
   },
   "source": [
    "# 6. Correlation matrix"
   ]
  },
  {
   "cell_type": "code",
   "execution_count": null,
   "metadata": {
    "pycharm": {
     "name": "#%%\n"
    }
   },
   "outputs": [],
   "source": [
    "# Compute Pearson correlation\n",
    "COS = sklearn.metrics.pairwise.cosine_similarity(profiles[columns2], profiles[columns2])"
   ]
  },
  {
   "cell_type": "code",
   "execution_count": null,
   "metadata": {
    "pycharm": {
     "name": "#%%\n"
    }
   },
   "outputs": [],
   "source": [
    "# Transform to tidy format\n",
    "df = pd.DataFrame(data=COS, index=list(profiles.Metadata_broad_sample), columns=list(profiles.Metadata_broad_sample))\n",
    "df = df.reset_index().melt(id_vars=[\"index\"])"
   ]
  },
  {
   "cell_type": "code",
   "execution_count": null,
   "metadata": {
    "pycharm": {
     "name": "#%%\n"
    }
   },
   "outputs": [],
   "source": [
    "# Annotate rows\n",
    "df2 = pd.merge(\n",
    "    df, \n",
    "    profiles[[\"Metadata_broad_sample\", \"Metadata_moa.x\"]], \n",
    "    how=\"left\", \n",
    "    left_on=\"index\", # <=== Rows\n",
    "    right_on=\"Metadata_broad_sample\"\n",
    ").drop(\"Metadata_broad_sample\",axis=1)\n",
    "\n",
    "# Annotate columns\n",
    "df2 = pd.merge(\n",
    "    df2, profiles[[\"Metadata_broad_sample\", \"Metadata_moa.x\"]],\n",
    "    how=\"left\", \n",
    "    left_on=\"variable\", # <=== Columns\n",
    "    right_on=\"Metadata_broad_sample\"\n",
    ").drop(\"Metadata_broad_sample\",axis=1)"
   ]
  },
  {
   "cell_type": "code",
   "execution_count": null,
   "metadata": {
    "pycharm": {
     "name": "#%%\n"
    }
   },
   "outputs": [],
   "source": [
    "# Rename columns and save\n",
    "df2.columns = [\"Var1\", \"Var2\", \"value\", \"Metadata_moa.x\", \"Metadata_moa.y\"]\n",
    "df2.to_csv(MATRIX_FILE)"
   ]
  },
  {
   "cell_type": "code",
   "execution_count": null,
   "metadata": {
    "pycharm": {
     "name": "#%%\n"
    }
   },
   "outputs": [],
   "source": []
  }
 ],
 "metadata": {
  "kernelspec": {
   "display_name": "Python 3",
   "language": "python",
   "name": "python3"
  },
  "language_info": {
   "codemirror_mode": {
    "name": "ipython",
    "version": 3
   },
   "file_extension": ".py",
   "mimetype": "text/x-python",
   "name": "python",
   "nbconvert_exporter": "python",
   "pygments_lexer": "ipython3",
   "version": "3.7.3"
  }
 },
 "nbformat": 4,
 "nbformat_minor": 4
}